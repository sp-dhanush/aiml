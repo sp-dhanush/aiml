{
 "cells": [
  {
   "cell_type": "markdown",
   "id": "cfd6928a",
   "metadata": {},
   "source": [
    "## Write a Python Program to Implement a Breadth-First Search algorithm."
   ]
  },
  {
   "cell_type": "code",
   "execution_count": 2,
   "id": "60d1220e",
   "metadata": {},
   "outputs": [
    {
     "name": "stdout",
     "output_type": "stream",
     "text": [
      "A B C D E F G H I "
     ]
    }
   ],
   "source": [
    "from collections import deque\n",
    "graph = {\n",
    "  'A' : ['B','C'],\n",
    "  'B' : ['D', 'E', 'F'],\n",
    "  'C' : ['G'],\n",
    "  'D' : [],\n",
    "  'E' : [],\n",
    "  'F' : ['H'],\n",
    "  'G' : ['I'],\n",
    "  'H' : [],\n",
    "  'I' : []\n",
    "}\n",
    "\n",
    "def bfs(graph, node):\n",
    "    visited = []\n",
    "    queue = deque()\n",
    "\n",
    "    visited.append(node)\n",
    "    queue.append(node)\n",
    "\n",
    "    while queue:\n",
    "        s = queue.popleft()\n",
    "        print(s, end = \" \")\n",
    "\n",
    "        for n in graph[s]:\n",
    "            if n not in visited:\n",
    "                visited.append(n)\n",
    "                queue.append(n)\n",
    "\n",
    "def main():\n",
    "    bfs(graph, 'A')\n",
    "\n",
    "main()\n",
    "\n"
   ]
  },
  {
   "cell_type": "code",
   "execution_count": null,
   "id": "2457aed9",
   "metadata": {},
   "outputs": [],
   "source": []
  }
 ],
 "metadata": {
  "kernelspec": {
   "display_name": "Python 3 (ipykernel)",
   "language": "python",
   "name": "python3"
  },
  "language_info": {
   "codemirror_mode": {
    "name": "ipython",
    "version": 3
   },
   "file_extension": ".py",
   "mimetype": "text/x-python",
   "name": "python",
   "nbconvert_exporter": "python",
   "pygments_lexer": "ipython3",
   "version": "3.9.13"
  }
 },
 "nbformat": 4,
 "nbformat_minor": 5
}
