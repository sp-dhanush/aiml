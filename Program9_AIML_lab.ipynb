{
 "cells": [
  {
   "cell_type": "markdown",
   "id": "b5a5cf01",
   "metadata": {},
   "source": [
    "# 9. Using KNN algorithm for linear regression, get the fertilizer response for an agricultural experiment where the crop yield is tested against fertilizers. The response from crops is the variable. "
   ]
  },
  {
   "cell_type": "markdown",
   "id": "9fb4fca1",
   "metadata": {},
   "source": [
    "### import Libraries"
   ]
  },
  {
   "cell_type": "code",
   "execution_count": 1,
   "id": "f415d4df",
   "metadata": {},
   "outputs": [],
   "source": [
    "from sklearn.model_selection import train_test_split\n",
    "from sklearn.neighbors import KNeighborsRegressor\n",
    "from sklearn.metrics import mean_squared_error\n",
    "import numpy as np"
   ]
  },
  {
   "cell_type": "markdown",
   "id": "04f80470",
   "metadata": {},
   "source": [
    "### sample dataset"
   ]
  },
  {
   "cell_type": "code",
   "execution_count": 2,
   "id": "ad5fcedc",
   "metadata": {},
   "outputs": [],
   "source": [
    "data = [\n",
    "    [20, 30, 40, 5.2],  # Fertilizer A - N in %, P in %, K in %, yield in ton\n",
    "    [25, 35, 45, 6.5],  # Fertilizer B - N in %, P in %, K in %, yield in ton\n",
    "    [15, 25, 35, 4.8],  # Fertilizer A - N in %, P in %, K in %, yield in ton\n",
    "    [30, 40, 50, 7.0],  # Fertilizer B - N in %, P in %, K in %, yield in ton\n",
    "    [10, 20, 30, 4.0],  # Fertilizer A - N in %, P in %, K in %, yield in ton\n",
    "    [28, 38, 48, 6.8],  # Fertilizer B - N in %, P in %, K in %, yield in ton\n",
    "]"
   ]
  },
  {
   "cell_type": "markdown",
   "id": "d8e5c83f",
   "metadata": {},
   "source": [
    "### separate features and response variable"
   ]
  },
  {
   "cell_type": "code",
   "execution_count": 3,
   "id": "930d239d",
   "metadata": {},
   "outputs": [],
   "source": [
    "x = [row[:-1] for row in data]\n",
    "y = [row[-1] for row in data]"
   ]
  },
  {
   "cell_type": "markdown",
   "id": "bb00040a",
   "metadata": {},
   "source": [
    "### split the dataset into training and testing sets"
   ]
  },
  {
   "cell_type": "code",
   "execution_count": 6,
   "id": "af0425a7",
   "metadata": {},
   "outputs": [],
   "source": [
    "x_train, x_test, y_train, y_test = train_test_split(x, y, test_size=0.2, random_state=42)"
   ]
  },
  {
   "cell_type": "markdown",
   "id": "b9f634a8",
   "metadata": {},
   "source": [
    "### initialize KNN regressor"
   ]
  },
  {
   "cell_type": "code",
   "execution_count": 7,
   "id": "b6b6f680",
   "metadata": {},
   "outputs": [],
   "source": [
    "knn_regressor = KNeighborsRegressor(n_neighbors=3)"
   ]
  },
  {
   "cell_type": "markdown",
   "id": "41e8abf5",
   "metadata": {},
   "source": [
    "### train the model"
   ]
  },
  {
   "cell_type": "code",
   "execution_count": 8,
   "id": "2bda4e32",
   "metadata": {},
   "outputs": [
    {
     "data": {
      "text/plain": [
       "KNeighborsRegressor(n_neighbors=3)"
      ]
     },
     "execution_count": 8,
     "metadata": {},
     "output_type": "execute_result"
    }
   ],
   "source": [
    "knn_regressor.fit(x_train, y_train)"
   ]
  },
  {
   "cell_type": "markdown",
   "id": "e4382495",
   "metadata": {},
   "source": [
    "### make predictions on the testing set"
   ]
  },
  {
   "cell_type": "code",
   "execution_count": 9,
   "id": "f71b41d9",
   "metadata": {},
   "outputs": [],
   "source": [
    "y_pred = knn_regressor.predict(x_test)"
   ]
  },
  {
   "cell_type": "markdown",
   "id": "2d981d47",
   "metadata": {},
   "source": [
    "### evaluate performance using mean squared error"
   ]
  },
  {
   "cell_type": "code",
   "execution_count": 11,
   "id": "638c5a05",
   "metadata": {},
   "outputs": [
    {
     "name": "stdout",
     "output_type": "stream",
     "text": [
      "Mean Squared Error: 0.04\n"
     ]
    }
   ],
   "source": [
    "mse = mean_squared_error(y_test, y_pred)\n",
    "print(f'Mean Squared Error: {mse:.2f}')"
   ]
  },
  {
   "cell_type": "markdown",
   "id": "a327ab72",
   "metadata": {},
   "source": [
    "### predict crop yield for new data"
   ]
  },
  {
   "cell_type": "code",
   "execution_count": 12,
   "id": "1b316169",
   "metadata": {},
   "outputs": [
    {
     "name": "stdout",
     "output_type": "stream",
     "text": [
      "Predicted Crop Yields: [6.2 5.2]\n"
     ]
    }
   ],
   "source": [
    "new_data = [[22, 32, 42], [18, 28, 38]]  # Replace with your actual new data\n",
    "predicted_yield = knn_regressor.predict(new_data)\n",
    "print(f'Predicted Crop Yields: {predicted_yield}')"
   ]
  },
  {
   "cell_type": "markdown",
   "id": "ec925f1a",
   "metadata": {},
   "source": [
    "### Result"
   ]
  },
  {
   "cell_type": "markdown",
   "id": "470b5864",
   "metadata": {},
   "source": [
    "#### Using KNN algorithm for linear regression, a python code to get crop yield against fertilizer was developed and executed successfully. "
   ]
  },
  {
   "cell_type": "code",
   "execution_count": null,
   "id": "46a7265e",
   "metadata": {},
   "outputs": [],
   "source": []
  }
 ],
 "metadata": {
  "kernelspec": {
   "display_name": "Python 3 (ipykernel)",
   "language": "python",
   "name": "python3"
  },
  "language_info": {
   "codemirror_mode": {
    "name": "ipython",
    "version": 3
   },
   "file_extension": ".py",
   "mimetype": "text/x-python",
   "name": "python",
   "nbconvert_exporter": "python",
   "pygments_lexer": "ipython3",
   "version": "3.9.13"
  }
 },
 "nbformat": 4,
 "nbformat_minor": 5
}
