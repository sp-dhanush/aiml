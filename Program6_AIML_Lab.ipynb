{
 "cells": [
  {
   "cell_type": "markdown",
   "id": "43898105",
   "metadata": {},
   "source": [
    "# Program 6. Write a python program to decide whether the budget of a company is exceeding or not with decision trees, with a sample dataset"
   ]
  },
  {
   "cell_type": "code",
   "execution_count": 19,
   "id": "330527f1",
   "metadata": {},
   "outputs": [],
   "source": [
    "### import libraries \n",
    "#### pandas - functions for analyzing, cleaning, exploring, and manipulating data\n",
    "\n",
    "import pandas as pd \n"
   ]
  },
  {
   "cell_type": "code",
   "execution_count": 20,
   "id": "b1473d10",
   "metadata": {},
   "outputs": [],
   "source": [
    "### import the data\n",
    "\n",
    "data = pd.read_csv('company budget.csv')\n"
   ]
  },
  {
   "cell_type": "code",
   "execution_count": 21,
   "id": "e02cdde1",
   "metadata": {},
   "outputs": [
    {
     "data": {
      "text/html": [
       "<div>\n",
       "<style scoped>\n",
       "    .dataframe tbody tr th:only-of-type {\n",
       "        vertical-align: middle;\n",
       "    }\n",
       "\n",
       "    .dataframe tbody tr th {\n",
       "        vertical-align: top;\n",
       "    }\n",
       "\n",
       "    .dataframe thead th {\n",
       "        text-align: right;\n",
       "    }\n",
       "</style>\n",
       "<table border=\"1\" class=\"dataframe\">\n",
       "  <thead>\n",
       "    <tr style=\"text-align: right;\">\n",
       "      <th></th>\n",
       "      <th>income</th>\n",
       "      <th>expenses</th>\n",
       "      <th>budgetclass</th>\n",
       "    </tr>\n",
       "  </thead>\n",
       "  <tbody>\n",
       "    <tr>\n",
       "      <th>0</th>\n",
       "      <td>125000</td>\n",
       "      <td>100000</td>\n",
       "      <td>notexceeding</td>\n",
       "    </tr>\n",
       "    <tr>\n",
       "      <th>1</th>\n",
       "      <td>150000</td>\n",
       "      <td>149000</td>\n",
       "      <td>notexceeding</td>\n",
       "    </tr>\n",
       "    <tr>\n",
       "      <th>2</th>\n",
       "      <td>175000</td>\n",
       "      <td>165000</td>\n",
       "      <td>notexceeding</td>\n",
       "    </tr>\n",
       "    <tr>\n",
       "      <th>3</th>\n",
       "      <td>200000</td>\n",
       "      <td>200000</td>\n",
       "      <td>notexceeding</td>\n",
       "    </tr>\n",
       "    <tr>\n",
       "      <th>4</th>\n",
       "      <td>225000</td>\n",
       "      <td>375000</td>\n",
       "      <td>exceeding</td>\n",
       "    </tr>\n",
       "    <tr>\n",
       "      <th>5</th>\n",
       "      <td>250000</td>\n",
       "      <td>450000</td>\n",
       "      <td>exceeding</td>\n",
       "    </tr>\n",
       "    <tr>\n",
       "      <th>6</th>\n",
       "      <td>275000</td>\n",
       "      <td>375000</td>\n",
       "      <td>exceeding</td>\n",
       "    </tr>\n",
       "    <tr>\n",
       "      <th>7</th>\n",
       "      <td>300000</td>\n",
       "      <td>400000</td>\n",
       "      <td>exceeding</td>\n",
       "    </tr>\n",
       "    <tr>\n",
       "      <th>8</th>\n",
       "      <td>325000</td>\n",
       "      <td>355000</td>\n",
       "      <td>exceeding</td>\n",
       "    </tr>\n",
       "  </tbody>\n",
       "</table>\n",
       "</div>"
      ],
      "text/plain": [
       "   income  expenses   budgetclass\n",
       "0  125000    100000  notexceeding\n",
       "1  150000    149000  notexceeding\n",
       "2  175000    165000  notexceeding\n",
       "3  200000    200000  notexceeding\n",
       "4  225000    375000     exceeding\n",
       "5  250000    450000     exceeding\n",
       "6  275000    375000     exceeding\n",
       "7  300000    400000     exceeding\n",
       "8  325000    355000     exceeding"
      ]
     },
     "execution_count": 21,
     "metadata": {},
     "output_type": "execute_result"
    }
   ],
   "source": [
    "### visualize the data\n",
    "\n",
    "data\n"
   ]
  },
  {
   "cell_type": "code",
   "execution_count": 22,
   "id": "07f78739",
   "metadata": {},
   "outputs": [],
   "source": [
    "### import libraries \n",
    "#### decision tree - to solve classification problems and categorize objects depending on their learning features.       \n",
    "\n",
    "from sklearn.tree import DecisionTreeClassifier\n",
    "from sklearn.metrics import accuracy_score\n",
    "\n",
    "features = ['income', 'expenses']\n",
    "\n",
    "target_attribute = 'budgetclass'\n"
   ]
  },
  {
   "cell_type": "code",
   "execution_count": 23,
   "id": "6a63acd3",
   "metadata": {},
   "outputs": [],
   "source": [
    "### creating and training a decision tree classifier\n",
    "\n",
    "from sklearn.model_selection import train_test_split\n",
    "\n",
    "train_data, test_data, train_labels, test_labels = train_test_split(data[features], data[target_attribute], \n",
    "                                                                    test_size=0.2, random_state=42)\n"
   ]
  },
  {
   "cell_type": "code",
   "execution_count": 24,
   "id": "0026feeb",
   "metadata": {},
   "outputs": [
    {
     "data": {
      "text/plain": [
       "DecisionTreeClassifier()"
      ]
     },
     "execution_count": 24,
     "metadata": {},
     "output_type": "execute_result"
    }
   ],
   "source": [
    "# Create and train the decision tree model\n",
    "model = DecisionTreeClassifier()\n",
    "\n",
    "model.fit(train_data, train_labels)\n"
   ]
  },
  {
   "cell_type": "code",
   "execution_count": 25,
   "id": "e4a86f54",
   "metadata": {},
   "outputs": [],
   "source": [
    "# Predict on the testing set\n",
    "test_predictions = model.predict(test_data)"
   ]
  },
  {
   "cell_type": "code",
   "execution_count": 26,
   "id": "75310f32",
   "metadata": {},
   "outputs": [
    {
     "name": "stdout",
     "output_type": "stream",
     "text": [
      "Accuracy: 100.00%\n"
     ]
    }
   ],
   "source": [
    "# Evaluate the model\n",
    "accuracy = accuracy_score(test_labels, test_predictions)\n",
    "print(f\"Accuracy: {accuracy * 100:.2f}%\")\n"
   ]
  },
  {
   "cell_type": "code",
   "execution_count": 31,
   "id": "43699bdc",
   "metadata": {},
   "outputs": [],
   "source": [
    "### check fit of the model\n",
    "\n",
    "new_data = {\n",
    "    'income': [1000980],\n",
    "     'expenses': [100000],\n",
    "}\n"
   ]
  },
  {
   "cell_type": "code",
   "execution_count": 32,
   "id": "225f804b",
   "metadata": {},
   "outputs": [
    {
     "name": "stdout",
     "output_type": "stream",
     "text": [
      "predicted_budgetclass: notexceeding\n"
     ]
    }
   ],
   "source": [
    "# Convert new data to DataFrame\n",
    "new_df = pd.DataFrame(new_data)\n",
    "\n",
    "# Predict the budget class for the new data\n",
    "predicted_budgetclass = model.predict(new_df)\n",
    "\n",
    "# Display the predicted budget class\n",
    "print(f\"predicted_budgetclass: {predicted_budgetclass[0]}\")\n"
   ]
  },
  {
   "cell_type": "markdown",
   "id": "83254aae",
   "metadata": {},
   "source": [
    "### Result\n",
    "##### a python program to decide whether the budget of a company is exceeding or not with decision trees, \n",
    "##### with a sample dataset was developed and executed successfully\n"
   ]
  },
  {
   "cell_type": "code",
   "execution_count": null,
   "id": "90fa4795",
   "metadata": {},
   "outputs": [],
   "source": []
  }
 ],
 "metadata": {
  "kernelspec": {
   "display_name": "Python 3 (ipykernel)",
   "language": "python",
   "name": "python3"
  },
  "language_info": {
   "codemirror_mode": {
    "name": "ipython",
    "version": 3
   },
   "file_extension": ".py",
   "mimetype": "text/x-python",
   "name": "python",
   "nbconvert_exporter": "python",
   "pygments_lexer": "ipython3",
   "version": "3.9.13"
  }
 },
 "nbformat": 4,
 "nbformat_minor": 5
}
