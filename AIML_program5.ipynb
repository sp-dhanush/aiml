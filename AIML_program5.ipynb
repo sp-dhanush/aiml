{
 "cells": [
  {
   "cell_type": "markdown",
   "metadata": {},
   "source": [
    "### Write a python program for Electricity-Generation-Analysis-and-Prediction-in-India by Linear regression"
   ]
  },
  {
   "cell_type": "markdown",
   "metadata": {
    "id": "G0evu5g8v-3F"
   },
   "source": [
    "# Importing libraries"
   ]
  },
  {
   "cell_type": "markdown",
   "metadata": {
    "id": "c-9qGNaiv-3H"
   },
   "source": [
    "- Importing important libraries such as numpy, pandas, matplotlib etc."
   ]
  },
  {
   "cell_type": "code",
   "execution_count": 78,
   "metadata": {
    "id": "K8C3BK7Qv-3K"
   },
   "outputs": [],
   "source": [
    "import pandas as pd\n",
    "import numpy as np\n",
    "import seaborn as sns\n",
    "import matplotlib.pyplot as plt\n",
    "import calendar\n",
    "import warnings\n",
    "warnings.filterwarnings('ignore')"
   ]
  },
  {
   "cell_type": "markdown",
   "metadata": {
    "id": "InZnetItv-3U"
   },
   "source": [
    "# Reading dataset"
   ]
  },
  {
   "cell_type": "markdown",
   "metadata": {
    "id": "0a0DpFDav-3V"
   },
   "source": [
    "- Changing datatype of 'Date' column from string to Date type\n",
    "- Resetting Index"
   ]
  },
  {
   "cell_type": "code",
   "execution_count": 79,
   "metadata": {
    "id": "T0tYXF5Rv-3a"
   },
   "outputs": [],
   "source": [
    "power=pd.read_csv(\"energygen.csv\",parse_dates=['Date'])"
   ]
  },
  {
   "cell_type": "code",
   "execution_count": 80,
   "metadata": {
    "colab": {
     "base_uri": "https://localhost:8080/",
     "height": 297
    },
    "id": "5A04AhBjv-3j",
    "outputId": "15a1d109-2074-40b5-b747-9965975fa3c9"
   },
   "outputs": [
    {
     "data": {
      "text/html": [
       "<div>\n",
       "<style scoped>\n",
       "    .dataframe tbody tr th:only-of-type {\n",
       "        vertical-align: middle;\n",
       "    }\n",
       "\n",
       "    .dataframe tbody tr th {\n",
       "        vertical-align: top;\n",
       "    }\n",
       "\n",
       "    .dataframe thead th {\n",
       "        text-align: right;\n",
       "    }\n",
       "</style>\n",
       "<table border=\"1\" class=\"dataframe\">\n",
       "  <thead>\n",
       "    <tr style=\"text-align: right;\">\n",
       "      <th></th>\n",
       "      <th>index</th>\n",
       "      <th>Date</th>\n",
       "      <th>Region</th>\n",
       "      <th>Thermal Generation Actual (in MU)</th>\n",
       "      <th>Thermal Generation Estimated (in MU)</th>\n",
       "      <th>Nuclear Generation Actual (in MU)</th>\n",
       "      <th>Nuclear Generation Estimated (in MU)</th>\n",
       "      <th>Hydro Generation Actual (in MU)</th>\n",
       "      <th>Hydro Generation Estimated (in MU)</th>\n",
       "    </tr>\n",
       "  </thead>\n",
       "  <tbody>\n",
       "    <tr>\n",
       "      <th>0</th>\n",
       "      <td>0</td>\n",
       "      <td>2017-09-01</td>\n",
       "      <td>Northern</td>\n",
       "      <td>624.23</td>\n",
       "      <td>484.21</td>\n",
       "      <td>30.36</td>\n",
       "      <td>35.57</td>\n",
       "      <td>273.27</td>\n",
       "      <td>320.81</td>\n",
       "    </tr>\n",
       "    <tr>\n",
       "      <th>1</th>\n",
       "      <td>1</td>\n",
       "      <td>2017-09-01</td>\n",
       "      <td>Western</td>\n",
       "      <td>1,106.89</td>\n",
       "      <td>1,024.33</td>\n",
       "      <td>25.17</td>\n",
       "      <td>3.81</td>\n",
       "      <td>72.00</td>\n",
       "      <td>21.53</td>\n",
       "    </tr>\n",
       "    <tr>\n",
       "      <th>2</th>\n",
       "      <td>2</td>\n",
       "      <td>2017-09-01</td>\n",
       "      <td>Southern</td>\n",
       "      <td>576.66</td>\n",
       "      <td>578.55</td>\n",
       "      <td>62.73</td>\n",
       "      <td>49.80</td>\n",
       "      <td>111.57</td>\n",
       "      <td>64.78</td>\n",
       "    </tr>\n",
       "    <tr>\n",
       "      <th>3</th>\n",
       "      <td>3</td>\n",
       "      <td>2017-09-01</td>\n",
       "      <td>Eastern</td>\n",
       "      <td>441.02</td>\n",
       "      <td>429.39</td>\n",
       "      <td>NaN</td>\n",
       "      <td>NaN</td>\n",
       "      <td>85.94</td>\n",
       "      <td>69.36</td>\n",
       "    </tr>\n",
       "    <tr>\n",
       "      <th>4</th>\n",
       "      <td>4</td>\n",
       "      <td>2017-09-01</td>\n",
       "      <td>NorthEastern</td>\n",
       "      <td>29.11</td>\n",
       "      <td>15.91</td>\n",
       "      <td>NaN</td>\n",
       "      <td>NaN</td>\n",
       "      <td>24.64</td>\n",
       "      <td>21.21</td>\n",
       "    </tr>\n",
       "  </tbody>\n",
       "</table>\n",
       "</div>"
      ],
      "text/plain": [
       "   index       Date        Region Thermal Generation Actual (in MU)  \\\n",
       "0      0 2017-09-01      Northern                            624.23   \n",
       "1      1 2017-09-01       Western                          1,106.89   \n",
       "2      2 2017-09-01      Southern                            576.66   \n",
       "3      3 2017-09-01       Eastern                            441.02   \n",
       "4      4 2017-09-01  NorthEastern                             29.11   \n",
       "\n",
       "  Thermal Generation Estimated (in MU)  Nuclear Generation Actual (in MU)  \\\n",
       "0                               484.21                              30.36   \n",
       "1                             1,024.33                              25.17   \n",
       "2                               578.55                              62.73   \n",
       "3                               429.39                                NaN   \n",
       "4                                15.91                                NaN   \n",
       "\n",
       "   Nuclear Generation Estimated (in MU)  Hydro Generation Actual (in MU)  \\\n",
       "0                                 35.57                           273.27   \n",
       "1                                  3.81                            72.00   \n",
       "2                                 49.80                           111.57   \n",
       "3                                   NaN                            85.94   \n",
       "4                                   NaN                            24.64   \n",
       "\n",
       "   Hydro Generation Estimated (in MU)  \n",
       "0                              320.81  \n",
       "1                               21.53  \n",
       "2                               64.78  \n",
       "3                               69.36  \n",
       "4                               21.21  "
      ]
     },
     "execution_count": 80,
     "metadata": {},
     "output_type": "execute_result"
    }
   ],
   "source": [
    "power.head()"
   ]
  },
  {
   "cell_type": "code",
   "execution_count": 81,
   "metadata": {
    "id": "MIF7pl8qv-3u"
   },
   "outputs": [],
   "source": [
    "power=power.set_index('index')"
   ]
  },
  {
   "cell_type": "code",
   "execution_count": 82,
   "metadata": {
    "colab": {
     "base_uri": "https://localhost:8080/",
     "height": 326
    },
    "id": "kcpUXGNAv-31",
    "outputId": "73bbeb59-5885-48da-f13c-b75ceacd7e5b"
   },
   "outputs": [
    {
     "data": {
      "text/html": [
       "<div>\n",
       "<style scoped>\n",
       "    .dataframe tbody tr th:only-of-type {\n",
       "        vertical-align: middle;\n",
       "    }\n",
       "\n",
       "    .dataframe tbody tr th {\n",
       "        vertical-align: top;\n",
       "    }\n",
       "\n",
       "    .dataframe thead th {\n",
       "        text-align: right;\n",
       "    }\n",
       "</style>\n",
       "<table border=\"1\" class=\"dataframe\">\n",
       "  <thead>\n",
       "    <tr style=\"text-align: right;\">\n",
       "      <th></th>\n",
       "      <th>Date</th>\n",
       "      <th>Region</th>\n",
       "      <th>Thermal Generation Actual (in MU)</th>\n",
       "      <th>Thermal Generation Estimated (in MU)</th>\n",
       "      <th>Nuclear Generation Actual (in MU)</th>\n",
       "      <th>Nuclear Generation Estimated (in MU)</th>\n",
       "      <th>Hydro Generation Actual (in MU)</th>\n",
       "      <th>Hydro Generation Estimated (in MU)</th>\n",
       "    </tr>\n",
       "    <tr>\n",
       "      <th>index</th>\n",
       "      <th></th>\n",
       "      <th></th>\n",
       "      <th></th>\n",
       "      <th></th>\n",
       "      <th></th>\n",
       "      <th></th>\n",
       "      <th></th>\n",
       "      <th></th>\n",
       "    </tr>\n",
       "  </thead>\n",
       "  <tbody>\n",
       "    <tr>\n",
       "      <th>0</th>\n",
       "      <td>2017-09-01</td>\n",
       "      <td>Northern</td>\n",
       "      <td>624.23</td>\n",
       "      <td>484.21</td>\n",
       "      <td>30.36</td>\n",
       "      <td>35.57</td>\n",
       "      <td>273.27</td>\n",
       "      <td>320.81</td>\n",
       "    </tr>\n",
       "    <tr>\n",
       "      <th>1</th>\n",
       "      <td>2017-09-01</td>\n",
       "      <td>Western</td>\n",
       "      <td>1,106.89</td>\n",
       "      <td>1,024.33</td>\n",
       "      <td>25.17</td>\n",
       "      <td>3.81</td>\n",
       "      <td>72.00</td>\n",
       "      <td>21.53</td>\n",
       "    </tr>\n",
       "    <tr>\n",
       "      <th>2</th>\n",
       "      <td>2017-09-01</td>\n",
       "      <td>Southern</td>\n",
       "      <td>576.66</td>\n",
       "      <td>578.55</td>\n",
       "      <td>62.73</td>\n",
       "      <td>49.80</td>\n",
       "      <td>111.57</td>\n",
       "      <td>64.78</td>\n",
       "    </tr>\n",
       "    <tr>\n",
       "      <th>3</th>\n",
       "      <td>2017-09-01</td>\n",
       "      <td>Eastern</td>\n",
       "      <td>441.02</td>\n",
       "      <td>429.39</td>\n",
       "      <td>NaN</td>\n",
       "      <td>NaN</td>\n",
       "      <td>85.94</td>\n",
       "      <td>69.36</td>\n",
       "    </tr>\n",
       "    <tr>\n",
       "      <th>4</th>\n",
       "      <td>2017-09-01</td>\n",
       "      <td>NorthEastern</td>\n",
       "      <td>29.11</td>\n",
       "      <td>15.91</td>\n",
       "      <td>NaN</td>\n",
       "      <td>NaN</td>\n",
       "      <td>24.64</td>\n",
       "      <td>21.21</td>\n",
       "    </tr>\n",
       "  </tbody>\n",
       "</table>\n",
       "</div>"
      ],
      "text/plain": [
       "            Date        Region Thermal Generation Actual (in MU)  \\\n",
       "index                                                              \n",
       "0     2017-09-01      Northern                            624.23   \n",
       "1     2017-09-01       Western                          1,106.89   \n",
       "2     2017-09-01      Southern                            576.66   \n",
       "3     2017-09-01       Eastern                            441.02   \n",
       "4     2017-09-01  NorthEastern                             29.11   \n",
       "\n",
       "      Thermal Generation Estimated (in MU)  Nuclear Generation Actual (in MU)  \\\n",
       "index                                                                           \n",
       "0                                   484.21                              30.36   \n",
       "1                                 1,024.33                              25.17   \n",
       "2                                   578.55                              62.73   \n",
       "3                                   429.39                                NaN   \n",
       "4                                    15.91                                NaN   \n",
       "\n",
       "       Nuclear Generation Estimated (in MU)  Hydro Generation Actual (in MU)  \\\n",
       "index                                                                          \n",
       "0                                     35.57                           273.27   \n",
       "1                                      3.81                            72.00   \n",
       "2                                     49.80                           111.57   \n",
       "3                                       NaN                            85.94   \n",
       "4                                       NaN                            24.64   \n",
       "\n",
       "       Hydro Generation Estimated (in MU)  \n",
       "index                                      \n",
       "0                                  320.81  \n",
       "1                                   21.53  \n",
       "2                                   64.78  \n",
       "3                                   69.36  \n",
       "4                                   21.21  "
      ]
     },
     "execution_count": 82,
     "metadata": {},
     "output_type": "execute_result"
    }
   ],
   "source": [
    "power.head()"
   ]
  },
  {
   "cell_type": "markdown",
   "metadata": {
    "id": "rdEKr-bZv-3-"
   },
   "source": [
    "# Exploratory Data Analysis"
   ]
  },
  {
   "cell_type": "markdown",
   "metadata": {
    "id": "4hvtzAFSv-3_"
   },
   "source": [
    "- Extracting basic information about the dataset "
   ]
  },
  {
   "cell_type": "code",
   "execution_count": 83,
   "metadata": {
    "colab": {
     "base_uri": "https://localhost:8080/",
     "height": 268
    },
    "id": "SHryj1lKv-4A",
    "outputId": "0fa950e3-564d-49b3-8f71-00eb207f8cf9"
   },
   "outputs": [
    {
     "name": "stdout",
     "output_type": "stream",
     "text": [
      "<class 'pandas.core.frame.DataFrame'>\n",
      "Int64Index: 4945 entries, 0 to 309\n",
      "Data columns (total 8 columns):\n",
      " #   Column                                Non-Null Count  Dtype         \n",
      "---  ------                                --------------  -----         \n",
      " 0   Date                                  4945 non-null   datetime64[ns]\n",
      " 1   Region                                4945 non-null   object        \n",
      " 2   Thermal Generation Actual (in MU)     4945 non-null   object        \n",
      " 3   Thermal Generation Estimated (in MU)  4945 non-null   object        \n",
      " 4   Nuclear Generation Actual (in MU)     2967 non-null   float64       \n",
      " 5   Nuclear Generation Estimated (in MU)  2967 non-null   float64       \n",
      " 6   Hydro Generation Actual (in MU)       4945 non-null   float64       \n",
      " 7   Hydro Generation Estimated (in MU)    4945 non-null   float64       \n",
      "dtypes: datetime64[ns](1), float64(4), object(3)\n",
      "memory usage: 347.7+ KB\n"
     ]
    }
   ],
   "source": [
    "power.info()"
   ]
  },
  {
   "cell_type": "markdown",
   "metadata": {
    "id": "IbA2bf_sv-4H"
   },
   "source": [
    "- Since 'Thermal Generation Actual (in MU)' and 'Thermal Generation Estimated (in MU)' are float values but cosidered as object by default (due to presence of commas[,])  these have to be changed to float datatypes"
   ]
  },
  {
   "cell_type": "code",
   "execution_count": 84,
   "metadata": {
    "id": "XbAa_eCyv-4J"
   },
   "outputs": [],
   "source": [
    "power['Thermal Generation Actual (in MU)'] = power['Thermal Generation Actual (in MU)'].str.replace(',','').astype('float')\n",
    "power['Thermal Generation Estimated (in MU)'] = power['Thermal Generation Estimated (in MU)'].str.replace(',','').astype('float')"
   ]
  },
  {
   "cell_type": "code",
   "execution_count": 85,
   "metadata": {
    "colab": {
     "base_uri": "https://localhost:8080/",
     "height": 268
    },
    "id": "nMNmiAinv-4U",
    "outputId": "6cd4fda2-a2c3-4f54-cf9e-b90f651c2555"
   },
   "outputs": [
    {
     "name": "stdout",
     "output_type": "stream",
     "text": [
      "<class 'pandas.core.frame.DataFrame'>\n",
      "Int64Index: 4945 entries, 0 to 309\n",
      "Data columns (total 8 columns):\n",
      " #   Column                                Non-Null Count  Dtype         \n",
      "---  ------                                --------------  -----         \n",
      " 0   Date                                  4945 non-null   datetime64[ns]\n",
      " 1   Region                                4945 non-null   object        \n",
      " 2   Thermal Generation Actual (in MU)     4945 non-null   float64       \n",
      " 3   Thermal Generation Estimated (in MU)  4945 non-null   float64       \n",
      " 4   Nuclear Generation Actual (in MU)     2967 non-null   float64       \n",
      " 5   Nuclear Generation Estimated (in MU)  2967 non-null   float64       \n",
      " 6   Hydro Generation Actual (in MU)       4945 non-null   float64       \n",
      " 7   Hydro Generation Estimated (in MU)    4945 non-null   float64       \n",
      "dtypes: datetime64[ns](1), float64(6), object(1)\n",
      "memory usage: 347.7+ KB\n"
     ]
    }
   ],
   "source": [
    "power.info()"
   ]
  },
  {
   "cell_type": "code",
   "execution_count": 86,
   "metadata": {
    "colab": {
     "base_uri": "https://localhost:8080/",
     "height": 302
    },
    "id": "U8htd07Jv-4Y",
    "outputId": "c66bbe3d-0d0b-48ba-85de-c7ddd905a175"
   },
   "outputs": [
    {
     "data": {
      "text/html": [
       "<div>\n",
       "<style scoped>\n",
       "    .dataframe tbody tr th:only-of-type {\n",
       "        vertical-align: middle;\n",
       "    }\n",
       "\n",
       "    .dataframe tbody tr th {\n",
       "        vertical-align: top;\n",
       "    }\n",
       "\n",
       "    .dataframe thead th {\n",
       "        text-align: right;\n",
       "    }\n",
       "</style>\n",
       "<table border=\"1\" class=\"dataframe\">\n",
       "  <thead>\n",
       "    <tr style=\"text-align: right;\">\n",
       "      <th></th>\n",
       "      <th>Thermal Generation Actual (in MU)</th>\n",
       "      <th>Thermal Generation Estimated (in MU)</th>\n",
       "      <th>Nuclear Generation Actual (in MU)</th>\n",
       "      <th>Nuclear Generation Estimated (in MU)</th>\n",
       "      <th>Hydro Generation Actual (in MU)</th>\n",
       "      <th>Hydro Generation Estimated (in MU)</th>\n",
       "    </tr>\n",
       "  </thead>\n",
       "  <tbody>\n",
       "    <tr>\n",
       "      <th>count</th>\n",
       "      <td>4945.000000</td>\n",
       "      <td>4945.000000</td>\n",
       "      <td>2967.000000</td>\n",
       "      <td>2967.000000</td>\n",
       "      <td>4945.000000</td>\n",
       "      <td>4945.000000</td>\n",
       "    </tr>\n",
       "    <tr>\n",
       "      <th>mean</th>\n",
       "      <td>603.978358</td>\n",
       "      <td>575.395116</td>\n",
       "      <td>37.242208</td>\n",
       "      <td>36.987877</td>\n",
       "      <td>73.305921</td>\n",
       "      <td>76.842965</td>\n",
       "    </tr>\n",
       "    <tr>\n",
       "      <th>std</th>\n",
       "      <td>383.534208</td>\n",
       "      <td>383.387299</td>\n",
       "      <td>15.883968</td>\n",
       "      <td>11.491292</td>\n",
       "      <td>74.482145</td>\n",
       "      <td>82.043952</td>\n",
       "    </tr>\n",
       "    <tr>\n",
       "      <th>min</th>\n",
       "      <td>12.340000</td>\n",
       "      <td>12.380000</td>\n",
       "      <td>0.000000</td>\n",
       "      <td>0.000000</td>\n",
       "      <td>0.000000</td>\n",
       "      <td>0.000000</td>\n",
       "    </tr>\n",
       "    <tr>\n",
       "      <th>25%</th>\n",
       "      <td>470.050000</td>\n",
       "      <td>427.460000</td>\n",
       "      <td>26.140000</td>\n",
       "      <td>30.190000</td>\n",
       "      <td>26.910000</td>\n",
       "      <td>23.310000</td>\n",
       "    </tr>\n",
       "    <tr>\n",
       "      <th>50%</th>\n",
       "      <td>615.280000</td>\n",
       "      <td>535.980000</td>\n",
       "      <td>30.720000</td>\n",
       "      <td>34.840000</td>\n",
       "      <td>52.960000</td>\n",
       "      <td>50.270000</td>\n",
       "    </tr>\n",
       "    <tr>\n",
       "      <th>75%</th>\n",
       "      <td>689.530000</td>\n",
       "      <td>672.740000</td>\n",
       "      <td>46.830000</td>\n",
       "      <td>43.075000</td>\n",
       "      <td>85.940000</td>\n",
       "      <td>95.800000</td>\n",
       "    </tr>\n",
       "    <tr>\n",
       "      <th>max</th>\n",
       "      <td>1395.970000</td>\n",
       "      <td>1442.380000</td>\n",
       "      <td>68.740000</td>\n",
       "      <td>76.640000</td>\n",
       "      <td>348.720000</td>\n",
       "      <td>397.380000</td>\n",
       "    </tr>\n",
       "  </tbody>\n",
       "</table>\n",
       "</div>"
      ],
      "text/plain": [
       "       Thermal Generation Actual (in MU)  \\\n",
       "count                        4945.000000   \n",
       "mean                          603.978358   \n",
       "std                           383.534208   \n",
       "min                            12.340000   \n",
       "25%                           470.050000   \n",
       "50%                           615.280000   \n",
       "75%                           689.530000   \n",
       "max                          1395.970000   \n",
       "\n",
       "       Thermal Generation Estimated (in MU)  \\\n",
       "count                           4945.000000   \n",
       "mean                             575.395116   \n",
       "std                              383.387299   \n",
       "min                               12.380000   \n",
       "25%                              427.460000   \n",
       "50%                              535.980000   \n",
       "75%                              672.740000   \n",
       "max                             1442.380000   \n",
       "\n",
       "       Nuclear Generation Actual (in MU)  \\\n",
       "count                        2967.000000   \n",
       "mean                           37.242208   \n",
       "std                            15.883968   \n",
       "min                             0.000000   \n",
       "25%                            26.140000   \n",
       "50%                            30.720000   \n",
       "75%                            46.830000   \n",
       "max                            68.740000   \n",
       "\n",
       "       Nuclear Generation Estimated (in MU)  Hydro Generation Actual (in MU)  \\\n",
       "count                           2967.000000                      4945.000000   \n",
       "mean                              36.987877                        73.305921   \n",
       "std                               11.491292                        74.482145   \n",
       "min                                0.000000                         0.000000   \n",
       "25%                               30.190000                        26.910000   \n",
       "50%                               34.840000                        52.960000   \n",
       "75%                               43.075000                        85.940000   \n",
       "max                               76.640000                       348.720000   \n",
       "\n",
       "       Hydro Generation Estimated (in MU)  \n",
       "count                         4945.000000  \n",
       "mean                            76.842965  \n",
       "std                             82.043952  \n",
       "min                              0.000000  \n",
       "25%                             23.310000  \n",
       "50%                             50.270000  \n",
       "75%                             95.800000  \n",
       "max                            397.380000  "
      ]
     },
     "execution_count": 86,
     "metadata": {},
     "output_type": "execute_result"
    }
   ],
   "source": [
    "power.describe()"
   ]
  },
  {
   "cell_type": "code",
   "execution_count": 87,
   "metadata": {
    "colab": {
     "base_uri": "https://localhost:8080/",
     "height": 167
    },
    "id": "SlTJXvw9v-4b",
    "outputId": "20493134-95b4-498f-b14e-4db16f5586fd",
    "scrolled": true
   },
   "outputs": [
    {
     "data": {
      "text/plain": [
       "Date                                       0\n",
       "Region                                     0\n",
       "Thermal Generation Actual (in MU)          0\n",
       "Thermal Generation Estimated (in MU)       0\n",
       "Nuclear Generation Actual (in MU)       1978\n",
       "Nuclear Generation Estimated (in MU)    1978\n",
       "Hydro Generation Actual (in MU)            0\n",
       "Hydro Generation Estimated (in MU)         0\n",
       "dtype: int64"
      ]
     },
     "execution_count": 87,
     "metadata": {},
     "output_type": "execute_result"
    }
   ],
   "source": [
    "power.isna().sum()"
   ]
  },
  {
   "cell_type": "markdown",
   "metadata": {
    "id": "HUgiT9zuv-4i"
   },
   "source": [
    "## Heatmap indicating null values in the Dataset"
   ]
  },
  {
   "cell_type": "code",
   "execution_count": 88,
   "metadata": {
    "colab": {
     "base_uri": "https://localhost:8080/",
     "height": 0
    },
    "id": "F3u4pM1Cv-4k",
    "outputId": "ecde3e99-f847-4047-d7b0-780b10c25660",
    "pycharm": {
     "name": "#%%\n"
    }
   },
   "outputs": [
    {
     "data": {
      "image/png": "[encoded data removed]",
      "text/plain": [
       "<Figure size 800x500 with 2 Axes>"
      ]
     },
     "metadata": {},
     "output_type": "display_data"
    }
   ],
   "source": [
    "plt.figure(figsize=(8,5))\n",
    "plt.show(sns.heatmap(power.isnull()))"
   ]
  },
  {
   "cell_type": "markdown",
   "metadata": {
    "id": "sOER8eTRU27H",
    "pycharm": {
     "name": "#%% md\n"
    }
   },
   "source": [
    "- Since there are no Nuclear Energy Generation plants in Eastern and North-Eastern region, values for them are missing.\n",
    "- These missing values can be replaced with 0 since no energy was generated in that area."
   ]
  },
  {
   "cell_type": "code",
   "execution_count": 89,
   "metadata": {
    "id": "ModyfeR-U27J"
   },
   "outputs": [],
   "source": [
    "power=power.fillna(0)"
   ]
  },
  {
   "cell_type": "code",
   "execution_count": 90,
   "metadata": {
    "colab": {
     "base_uri": "https://localhost:8080/",
     "height": 0
    },
    "id": "H-44sKCRv-4p",
    "outputId": "8af966e0-381b-48fa-f0ee-e0e8949177c1",
    "pycharm": {
     "name": "#%%\n"
    }
   },
   "outputs": [
    {
     "data": {
      "text/plain": [
       "array(['Northern', 'Western', 'Southern', 'Eastern', 'NorthEastern'],\n",
       "      dtype=object)"
      ]
     },
     "execution_count": 90,
     "metadata": {},
     "output_type": "execute_result"
    }
   ],
   "source": [
    "power.Region.unique()"
   ]
  },
  {
   "cell_type": "markdown",
   "metadata": {
    "id": "NJjvcOeMv-4u",
    "pycharm": {
     "name": "#%% md\n"
    }
   },
   "source": [
    "## Correlation between different features"
   ]
  },
  {
   "cell_type": "code",
   "execution_count": 91,
   "metadata": {
    "colab": {
     "base_uri": "https://localhost:8080/",
     "height": 0
    },
    "id": "O90WUsaOv-4v",
    "outputId": "dd5920ca-c7e2-48b4-d234-d60b1e0bf3a4"
   },
   "outputs": [
    {
     "data": {
      "text/html": [
       "<div>\n",
       "<style scoped>\n",
       "    .dataframe tbody tr th:only-of-type {\n",
       "        vertical-align: middle;\n",
       "    }\n",
       "\n",
       "    .dataframe tbody tr th {\n",
       "        vertical-align: top;\n",
       "    }\n",
       "\n",
       "    .dataframe thead th {\n",
       "        text-align: right;\n",
       "    }\n",
       "</style>\n",
       "<table border=\"1\" class=\"dataframe\">\n",
       "  <thead>\n",
       "    <tr style=\"text-align: right;\">\n",
       "      <th></th>\n",
       "      <th>Thermal Generation Actual (in MU)</th>\n",
       "      <th>Thermal Generation Estimated (in MU)</th>\n",
       "      <th>Nuclear Generation Actual (in MU)</th>\n",
       "      <th>Nuclear Generation Estimated (in MU)</th>\n",
       "      <th>Hydro Generation Actual (in MU)</th>\n",
       "      <th>Hydro Generation Estimated (in MU)</th>\n",
       "    </tr>\n",
       "  </thead>\n",
       "  <tbody>\n",
       "    <tr>\n",
       "      <th>Thermal Generation Actual (in MU)</th>\n",
       "      <td>1.000000</td>\n",
       "      <td>0.980072</td>\n",
       "      <td>0.474167</td>\n",
       "      <td>0.583776</td>\n",
       "      <td>0.136598</td>\n",
       "      <td>0.145290</td>\n",
       "    </tr>\n",
       "    <tr>\n",
       "      <th>Thermal Generation Estimated (in MU)</th>\n",
       "      <td>0.980072</td>\n",
       "      <td>1.000000</td>\n",
       "      <td>0.413791</td>\n",
       "      <td>0.521211</td>\n",
       "      <td>0.102277</td>\n",
       "      <td>0.092564</td>\n",
       "    </tr>\n",
       "    <tr>\n",
       "      <th>Nuclear Generation Actual (in MU)</th>\n",
       "      <td>0.474167</td>\n",
       "      <td>0.413791</td>\n",
       "      <td>1.000000</td>\n",
       "      <td>0.876772</td>\n",
       "      <td>0.260189</td>\n",
       "      <td>0.273817</td>\n",
       "    </tr>\n",
       "    <tr>\n",
       "      <th>Nuclear Generation Estimated (in MU)</th>\n",
       "      <td>0.583776</td>\n",
       "      <td>0.521211</td>\n",
       "      <td>0.876772</td>\n",
       "      <td>1.000000</td>\n",
       "      <td>0.327767</td>\n",
       "      <td>0.333217</td>\n",
       "    </tr>\n",
       "    <tr>\n",
       "      <th>Hydro Generation Actual (in MU)</th>\n",
       "      <td>0.136598</td>\n",
       "      <td>0.102277</td>\n",
       "      <td>0.260189</td>\n",
       "      <td>0.327767</td>\n",
       "      <td>1.000000</td>\n",
       "      <td>0.960589</td>\n",
       "    </tr>\n",
       "    <tr>\n",
       "      <th>Hydro Generation Estimated (in MU)</th>\n",
       "      <td>0.145290</td>\n",
       "      <td>0.092564</td>\n",
       "      <td>0.273817</td>\n",
       "      <td>0.333217</td>\n",
       "      <td>0.960589</td>\n",
       "      <td>1.000000</td>\n",
       "    </tr>\n",
       "  </tbody>\n",
       "</table>\n",
       "</div>"
      ],
      "text/plain": [
       "                                      Thermal Generation Actual (in MU)  \\\n",
       "Thermal Generation Actual (in MU)                              1.000000   \n",
       "Thermal Generation Estimated (in MU)                           0.980072   \n",
       "Nuclear Generation Actual (in MU)                              0.474167   \n",
       "Nuclear Generation Estimated (in MU)                           0.583776   \n",
       "Hydro Generation Actual (in MU)                                0.136598   \n",
       "Hydro Generation Estimated (in MU)                             0.145290   \n",
       "\n",
       "                                      Thermal Generation Estimated (in MU)  \\\n",
       "Thermal Generation Actual (in MU)                                 0.980072   \n",
       "Thermal Generation Estimated (in MU)                              1.000000   \n",
       "Nuclear Generation Actual (in MU)                                 0.413791   \n",
       "Nuclear Generation Estimated (in MU)                              0.521211   \n",
       "Hydro Generation Actual (in MU)                                   0.102277   \n",
       "Hydro Generation Estimated (in MU)                                0.092564   \n",
       "\n",
       "                                      Nuclear Generation Actual (in MU)  \\\n",
       "Thermal Generation Actual (in MU)                              0.474167   \n",
       "Thermal Generation Estimated (in MU)                           0.413791   \n",
       "Nuclear Generation Actual (in MU)                              1.000000   \n",
       "Nuclear Generation Estimated (in MU)                           0.876772   \n",
       "Hydro Generation Actual (in MU)                                0.260189   \n",
       "Hydro Generation Estimated (in MU)                             0.273817   \n",
       "\n",
       "                                      Nuclear Generation Estimated (in MU)  \\\n",
       "Thermal Generation Actual (in MU)                                 0.583776   \n",
       "Thermal Generation Estimated (in MU)                              0.521211   \n",
       "Nuclear Generation Actual (in MU)                                 0.876772   \n",
       "Nuclear Generation Estimated (in MU)                              1.000000   \n",
       "Hydro Generation Actual (in MU)                                   0.327767   \n",
       "Hydro Generation Estimated (in MU)                                0.333217   \n",
       "\n",
       "                                      Hydro Generation Actual (in MU)  \\\n",
       "Thermal Generation Actual (in MU)                            0.136598   \n",
       "Thermal Generation Estimated (in MU)                         0.102277   \n",
       "Nuclear Generation Actual (in MU)                            0.260189   \n",
       "Nuclear Generation Estimated (in MU)                         0.327767   \n",
       "Hydro Generation Actual (in MU)                              1.000000   \n",
       "Hydro Generation Estimated (in MU)                           0.960589   \n",
       "\n",
       "                                      Hydro Generation Estimated (in MU)  \n",
       "Thermal Generation Actual (in MU)                               0.145290  \n",
       "Thermal Generation Estimated (in MU)                            0.092564  \n",
       "Nuclear Generation Actual (in MU)                               0.273817  \n",
       "Nuclear Generation Estimated (in MU)                            0.333217  \n",
       "Hydro Generation Actual (in MU)                                 0.960589  \n",
       "Hydro Generation Estimated (in MU)                              1.000000  "
      ]
     },
     "execution_count": 91,
     "metadata": {},
     "output_type": "execute_result"
    }
   ],
   "source": [
    "a=power.corr() \n",
    "a"
   ]
  },
  {
   "cell_type": "code",
   "execution_count": 92,
   "metadata": {
    "colab": {
     "base_uri": "https://localhost:8080/",
     "height": 0
    },
    "id": "Vg3S5p3Jv-40",
    "outputId": "108f5a7c-1b5f-471b-eed8-1843b552d07f",
    "pycharm": {
     "name": "#%%\n"
    }
   },
   "outputs": [
    {
     "data": {
      "text/plain": [
       "<AxesSubplot:>"
      ]
     },
     "execution_count": 92,
     "metadata": {},
     "output_type": "execute_result"
    },
    {
     "data": {
      "image/png": "[encoded data removed]",
      "text/plain": [
       "<Figure size 700x500 with 2 Axes>"
      ]
     },
     "metadata": {},
     "output_type": "display_data"
    }
   ],
   "source": [
    "sns.set(rc={'figure.figsize':(7,5)})\n",
    "sns.heatmap(a)"
   ]
  },
  {
   "cell_type": "markdown",
   "metadata": {
    "id": "o_fd_R1zU28T",
    "pycharm": {
     "name": "#%% md\n"
    }
   },
   "source": [
    "- Thermal energy turns out to be the most dominant power generated all over the country."
   ]
  },
  {
   "cell_type": "markdown",
   "metadata": {
    "id": "HQEvxtZiv-5F",
    "pycharm": {
     "name": "#%% md\n"
    }
   },
   "source": [
    "## Calculating total Actual and Estimated Powers"
   ]
  },
  {
   "cell_type": "code",
   "execution_count": 93,
   "metadata": {
    "id": "p1KTY2sbv-5G",
    "pycharm": {
     "name": "#%%\n"
    }
   },
   "outputs": [],
   "source": [
    "power['Total Actual Power']=power['Thermal Generation Actual (in MU)']+power['Nuclear Generation Actual (in MU)']+power['Hydro Generation Actual (in MU)']\n",
    "power['Total Estimated Power']=power['Thermal Generation Estimated (in MU)']+power['Nuclear Generation Estimated (in MU)']+power['Hydro Generation Estimated (in MU)']"
   ]
  },
  {
   "cell_type": "code",
   "execution_count": 94,
   "metadata": {
    "colab": {
     "base_uri": "https://localhost:8080/",
     "height": 0
    },
    "id": "mflekBwDv-5J",
    "outputId": "f4d99ca6-de2b-4227-b661-de05f9ffa22e",
    "pycharm": {
     "name": "#%%\n"
    }
   },
   "outputs": [
    {
     "data": {
      "text/html": [
       "<div>\n",
       "<style scoped>\n",
       "    .dataframe tbody tr th:only-of-type {\n",
       "        vertical-align: middle;\n",
       "    }\n",
       "\n",
       "    .dataframe tbody tr th {\n",
       "        vertical-align: top;\n",
       "    }\n",
       "\n",
       "    .dataframe thead th {\n",
       "        text-align: right;\n",
       "    }\n",
       "</style>\n",
       "<table border=\"1\" class=\"dataframe\">\n",
       "  <thead>\n",
       "    <tr style=\"text-align: right;\">\n",
       "      <th></th>\n",
       "      <th>Date</th>\n",
       "      <th>Region</th>\n",
       "      <th>Thermal Generation Actual (in MU)</th>\n",
       "      <th>Thermal Generation Estimated (in MU)</th>\n",
       "      <th>Nuclear Generation Actual (in MU)</th>\n",
       "      <th>Nuclear Generation Estimated (in MU)</th>\n",
       "      <th>Hydro Generation Actual (in MU)</th>\n",
       "      <th>Hydro Generation Estimated (in MU)</th>\n",
       "      <th>Total Actual Power</th>\n",
       "      <th>Total Estimated Power</th>\n",
       "    </tr>\n",
       "    <tr>\n",
       "      <th>index</th>\n",
       "      <th></th>\n",
       "      <th></th>\n",
       "      <th></th>\n",
       "      <th></th>\n",
       "      <th></th>\n",
       "      <th></th>\n",
       "      <th></th>\n",
       "      <th></th>\n",
       "      <th></th>\n",
       "      <th></th>\n",
       "    </tr>\n",
       "  </thead>\n",
       "  <tbody>\n",
       "    <tr>\n",
       "      <th>0</th>\n",
       "      <td>2017-09-01</td>\n",
       "      <td>Northern</td>\n",
       "      <td>624.23</td>\n",
       "      <td>484.21</td>\n",
       "      <td>30.36</td>\n",
       "      <td>35.57</td>\n",
       "      <td>273.27</td>\n",
       "      <td>320.81</td>\n",
       "      <td>927.86</td>\n",
       "      <td>840.59</td>\n",
       "    </tr>\n",
       "    <tr>\n",
       "      <th>1</th>\n",
       "      <td>2017-09-01</td>\n",
       "      <td>Western</td>\n",
       "      <td>1106.89</td>\n",
       "      <td>1024.33</td>\n",
       "      <td>25.17</td>\n",
       "      <td>3.81</td>\n",
       "      <td>72.00</td>\n",
       "      <td>21.53</td>\n",
       "      <td>1204.06</td>\n",
       "      <td>1049.67</td>\n",
       "    </tr>\n",
       "    <tr>\n",
       "      <th>2</th>\n",
       "      <td>2017-09-01</td>\n",
       "      <td>Southern</td>\n",
       "      <td>576.66</td>\n",
       "      <td>578.55</td>\n",
       "      <td>62.73</td>\n",
       "      <td>49.80</td>\n",
       "      <td>111.57</td>\n",
       "      <td>64.78</td>\n",
       "      <td>750.96</td>\n",
       "      <td>693.13</td>\n",
       "    </tr>\n",
       "    <tr>\n",
       "      <th>3</th>\n",
       "      <td>2017-09-01</td>\n",
       "      <td>Eastern</td>\n",
       "      <td>441.02</td>\n",
       "      <td>429.39</td>\n",
       "      <td>0.00</td>\n",
       "      <td>0.00</td>\n",
       "      <td>85.94</td>\n",
       "      <td>69.36</td>\n",
       "      <td>526.96</td>\n",
       "      <td>498.75</td>\n",
       "    </tr>\n",
       "    <tr>\n",
       "      <th>4</th>\n",
       "      <td>2017-09-01</td>\n",
       "      <td>NorthEastern</td>\n",
       "      <td>29.11</td>\n",
       "      <td>15.91</td>\n",
       "      <td>0.00</td>\n",
       "      <td>0.00</td>\n",
       "      <td>24.64</td>\n",
       "      <td>21.21</td>\n",
       "      <td>53.75</td>\n",
       "      <td>37.12</td>\n",
       "    </tr>\n",
       "  </tbody>\n",
       "</table>\n",
       "</div>"
      ],
      "text/plain": [
       "            Date        Region  Thermal Generation Actual (in MU)  \\\n",
       "index                                                               \n",
       "0     2017-09-01      Northern                             624.23   \n",
       "1     2017-09-01       Western                            1106.89   \n",
       "2     2017-09-01      Southern                             576.66   \n",
       "3     2017-09-01       Eastern                             441.02   \n",
       "4     2017-09-01  NorthEastern                              29.11   \n",
       "\n",
       "       Thermal Generation Estimated (in MU)  \\\n",
       "index                                         \n",
       "0                                    484.21   \n",
       "1                                   1024.33   \n",
       "2                                    578.55   \n",
       "3                                    429.39   \n",
       "4                                     15.91   \n",
       "\n",
       "       Nuclear Generation Actual (in MU)  \\\n",
       "index                                      \n",
       "0                                  30.36   \n",
       "1                                  25.17   \n",
       "2                                  62.73   \n",
       "3                                   0.00   \n",
       "4                                   0.00   \n",
       "\n",
       "       Nuclear Generation Estimated (in MU)  Hydro Generation Actual (in MU)  \\\n",
       "index                                                                          \n",
       "0                                     35.57                           273.27   \n",
       "1                                      3.81                            72.00   \n",
       "2                                     49.80                           111.57   \n",
       "3                                      0.00                            85.94   \n",
       "4                                      0.00                            24.64   \n",
       "\n",
       "       Hydro Generation Estimated (in MU)  Total Actual Power  \\\n",
       "index                                                           \n",
       "0                                  320.81              927.86   \n",
       "1                                   21.53             1204.06   \n",
       "2                                   64.78              750.96   \n",
       "3                                   69.36              526.96   \n",
       "4                                   21.21               53.75   \n",
       "\n",
       "       Total Estimated Power  \n",
       "index                         \n",
       "0                     840.59  \n",
       "1                    1049.67  \n",
       "2                     693.13  \n",
       "3                     498.75  \n",
       "4                      37.12  "
      ]
     },
     "execution_count": 94,
     "metadata": {},
     "output_type": "execute_result"
    }
   ],
   "source": [
    "power.head()"
   ]
  },
  {
   "cell_type": "markdown",
   "metadata": {},
   "source": [
    "The graph indicates that maximum power is generated in the Western region followed by the Northern and then the Southern region."
   ]
  },
  {
   "cell_type": "code",
   "execution_count": null,
   "metadata": {},
   "outputs": [],
   "source": []
  },
  {
   "cell_type": "markdown",
   "metadata": {
    "id": "z_VBtDTrU28s",
    "pycharm": {
     "name": "#%% md\n"
    }
   },
   "source": [
    "- The graph indicates that maximum power is generated in the Western region followed by the Northern and then the Southern region."
   ]
  },
  {
   "cell_type": "markdown",
   "metadata": {
    "id": "YsYsA78rv-5U",
    "pycharm": {
     "name": "#%% md\n"
    }
   },
   "source": [
    "## Calculating Power Generation grouped by Month"
   ]
  },
  {
   "cell_type": "code",
   "execution_count": 95,
   "metadata": {
    "colab": {
     "base_uri": "https://localhost:8080/",
     "height": 0
    },
    "id": "oADTPoDcv-5U",
    "outputId": "34cdcc45-b247-4797-b064-0fd2ede184c5"
   },
   "outputs": [
    {
     "data": {
      "text/html": [
       "<div>\n",
       "<style scoped>\n",
       "    .dataframe tbody tr th:only-of-type {\n",
       "        vertical-align: middle;\n",
       "    }\n",
       "\n",
       "    .dataframe tbody tr th {\n",
       "        vertical-align: top;\n",
       "    }\n",
       "\n",
       "    .dataframe thead th {\n",
       "        text-align: right;\n",
       "    }\n",
       "</style>\n",
       "<table border=\"1\" class=\"dataframe\">\n",
       "  <thead>\n",
       "    <tr style=\"text-align: right;\">\n",
       "      <th></th>\n",
       "      <th>Date</th>\n",
       "      <th>Total Actual Power</th>\n",
       "      <th>Total Estimated Power</th>\n",
       "      <th>Month</th>\n",
       "    </tr>\n",
       "    <tr>\n",
       "      <th>index</th>\n",
       "      <th></th>\n",
       "      <th></th>\n",
       "      <th></th>\n",
       "      <th></th>\n",
       "    </tr>\n",
       "  </thead>\n",
       "  <tbody>\n",
       "    <tr>\n",
       "      <th>0</th>\n",
       "      <td>2017-09-01</td>\n",
       "      <td>927.86</td>\n",
       "      <td>840.59</td>\n",
       "      <td>9</td>\n",
       "    </tr>\n",
       "    <tr>\n",
       "      <th>1</th>\n",
       "      <td>2017-09-01</td>\n",
       "      <td>1204.06</td>\n",
       "      <td>1049.67</td>\n",
       "      <td>9</td>\n",
       "    </tr>\n",
       "    <tr>\n",
       "      <th>2</th>\n",
       "      <td>2017-09-01</td>\n",
       "      <td>750.96</td>\n",
       "      <td>693.13</td>\n",
       "      <td>9</td>\n",
       "    </tr>\n",
       "    <tr>\n",
       "      <th>3</th>\n",
       "      <td>2017-09-01</td>\n",
       "      <td>526.96</td>\n",
       "      <td>498.75</td>\n",
       "      <td>9</td>\n",
       "    </tr>\n",
       "    <tr>\n",
       "      <th>4</th>\n",
       "      <td>2017-09-01</td>\n",
       "      <td>53.75</td>\n",
       "      <td>37.12</td>\n",
       "      <td>9</td>\n",
       "    </tr>\n",
       "    <tr>\n",
       "      <th>...</th>\n",
       "      <td>...</td>\n",
       "      <td>...</td>\n",
       "      <td>...</td>\n",
       "      <td>...</td>\n",
       "    </tr>\n",
       "    <tr>\n",
       "      <th>305</th>\n",
       "      <td>2020-08-01</td>\n",
       "      <td>1045.07</td>\n",
       "      <td>978.35</td>\n",
       "      <td>8</td>\n",
       "    </tr>\n",
       "    <tr>\n",
       "      <th>306</th>\n",
       "      <td>2020-08-01</td>\n",
       "      <td>1213.04</td>\n",
       "      <td>1319.01</td>\n",
       "      <td>8</td>\n",
       "    </tr>\n",
       "    <tr>\n",
       "      <th>307</th>\n",
       "      <td>2020-08-01</td>\n",
       "      <td>649.98</td>\n",
       "      <td>519.06</td>\n",
       "      <td>8</td>\n",
       "    </tr>\n",
       "    <tr>\n",
       "      <th>308</th>\n",
       "      <td>2020-08-01</td>\n",
       "      <td>570.08</td>\n",
       "      <td>640.81</td>\n",
       "      <td>8</td>\n",
       "    </tr>\n",
       "    <tr>\n",
       "      <th>309</th>\n",
       "      <td>2020-08-01</td>\n",
       "      <td>64.29</td>\n",
       "      <td>62.77</td>\n",
       "      <td>8</td>\n",
       "    </tr>\n",
       "  </tbody>\n",
       "</table>\n",
       "<p>4945 rows × 4 columns</p>\n",
       "</div>"
      ],
      "text/plain": [
       "            Date  Total Actual Power  Total Estimated Power  Month\n",
       "index                                                             \n",
       "0     2017-09-01              927.86                 840.59      9\n",
       "1     2017-09-01             1204.06                1049.67      9\n",
       "2     2017-09-01              750.96                 693.13      9\n",
       "3     2017-09-01              526.96                 498.75      9\n",
       "4     2017-09-01               53.75                  37.12      9\n",
       "...          ...                 ...                    ...    ...\n",
       "305   2020-08-01             1045.07                 978.35      8\n",
       "306   2020-08-01             1213.04                1319.01      8\n",
       "307   2020-08-01              649.98                 519.06      8\n",
       "308   2020-08-01              570.08                 640.81      8\n",
       "309   2020-08-01               64.29                  62.77      8\n",
       "\n",
       "[4945 rows x 4 columns]"
      ]
     },
     "execution_count": 95,
     "metadata": {},
     "output_type": "execute_result"
    }
   ],
   "source": [
    "power_month = power[['Date','Total Actual Power','Total Estimated Power']]\n",
    "power_month['Month']=power_month['Date'].dt.month\n",
    "power_month"
   ]
  },
  {
   "cell_type": "code",
   "execution_count": 96,
   "metadata": {
    "id": "_ofS0EUYv-5X"
   },
   "outputs": [],
   "source": [
    "power_month['Month'] = power_month['Month'].apply(lambda x: calendar.month_abbr[int(x)])"
   ]
  },
  {
   "cell_type": "code",
   "execution_count": 97,
   "metadata": {
    "colab": {
     "base_uri": "https://localhost:8080/",
     "height": 0
    },
    "id": "oaMAoy2fv-5b",
    "outputId": "22f01761-02a8-4dc1-e863-de8b9f78f561"
   },
   "outputs": [
    {
     "data": {
      "text/html": [
       "<div>\n",
       "<style scoped>\n",
       "    .dataframe tbody tr th:only-of-type {\n",
       "        vertical-align: middle;\n",
       "    }\n",
       "\n",
       "    .dataframe tbody tr th {\n",
       "        vertical-align: top;\n",
       "    }\n",
       "\n",
       "    .dataframe thead th {\n",
       "        text-align: right;\n",
       "    }\n",
       "</style>\n",
       "<table border=\"1\" class=\"dataframe\">\n",
       "  <thead>\n",
       "    <tr style=\"text-align: right;\">\n",
       "      <th></th>\n",
       "      <th>Date</th>\n",
       "      <th>Total Actual Power</th>\n",
       "      <th>Total Estimated Power</th>\n",
       "      <th>Month</th>\n",
       "    </tr>\n",
       "    <tr>\n",
       "      <th>index</th>\n",
       "      <th></th>\n",
       "      <th></th>\n",
       "      <th></th>\n",
       "      <th></th>\n",
       "    </tr>\n",
       "  </thead>\n",
       "  <tbody>\n",
       "    <tr>\n",
       "      <th>0</th>\n",
       "      <td>2017-09-01</td>\n",
       "      <td>927.86</td>\n",
       "      <td>840.59</td>\n",
       "      <td>Sep</td>\n",
       "    </tr>\n",
       "    <tr>\n",
       "      <th>1</th>\n",
       "      <td>2017-09-01</td>\n",
       "      <td>1204.06</td>\n",
       "      <td>1049.67</td>\n",
       "      <td>Sep</td>\n",
       "    </tr>\n",
       "    <tr>\n",
       "      <th>2</th>\n",
       "      <td>2017-09-01</td>\n",
       "      <td>750.96</td>\n",
       "      <td>693.13</td>\n",
       "      <td>Sep</td>\n",
       "    </tr>\n",
       "    <tr>\n",
       "      <th>3</th>\n",
       "      <td>2017-09-01</td>\n",
       "      <td>526.96</td>\n",
       "      <td>498.75</td>\n",
       "      <td>Sep</td>\n",
       "    </tr>\n",
       "    <tr>\n",
       "      <th>4</th>\n",
       "      <td>2017-09-01</td>\n",
       "      <td>53.75</td>\n",
       "      <td>37.12</td>\n",
       "      <td>Sep</td>\n",
       "    </tr>\n",
       "    <tr>\n",
       "      <th>...</th>\n",
       "      <td>...</td>\n",
       "      <td>...</td>\n",
       "      <td>...</td>\n",
       "      <td>...</td>\n",
       "    </tr>\n",
       "    <tr>\n",
       "      <th>305</th>\n",
       "      <td>2020-08-01</td>\n",
       "      <td>1045.07</td>\n",
       "      <td>978.35</td>\n",
       "      <td>Aug</td>\n",
       "    </tr>\n",
       "    <tr>\n",
       "      <th>306</th>\n",
       "      <td>2020-08-01</td>\n",
       "      <td>1213.04</td>\n",
       "      <td>1319.01</td>\n",
       "      <td>Aug</td>\n",
       "    </tr>\n",
       "    <tr>\n",
       "      <th>307</th>\n",
       "      <td>2020-08-01</td>\n",
       "      <td>649.98</td>\n",
       "      <td>519.06</td>\n",
       "      <td>Aug</td>\n",
       "    </tr>\n",
       "    <tr>\n",
       "      <th>308</th>\n",
       "      <td>2020-08-01</td>\n",
       "      <td>570.08</td>\n",
       "      <td>640.81</td>\n",
       "      <td>Aug</td>\n",
       "    </tr>\n",
       "    <tr>\n",
       "      <th>309</th>\n",
       "      <td>2020-08-01</td>\n",
       "      <td>64.29</td>\n",
       "      <td>62.77</td>\n",
       "      <td>Aug</td>\n",
       "    </tr>\n",
       "  </tbody>\n",
       "</table>\n",
       "<p>4945 rows × 4 columns</p>\n",
       "</div>"
      ],
      "text/plain": [
       "            Date  Total Actual Power  Total Estimated Power Month\n",
       "index                                                            \n",
       "0     2017-09-01              927.86                 840.59   Sep\n",
       "1     2017-09-01             1204.06                1049.67   Sep\n",
       "2     2017-09-01              750.96                 693.13   Sep\n",
       "3     2017-09-01              526.96                 498.75   Sep\n",
       "4     2017-09-01               53.75                  37.12   Sep\n",
       "...          ...                 ...                    ...   ...\n",
       "305   2020-08-01             1045.07                 978.35   Aug\n",
       "306   2020-08-01             1213.04                1319.01   Aug\n",
       "307   2020-08-01              649.98                 519.06   Aug\n",
       "308   2020-08-01              570.08                 640.81   Aug\n",
       "309   2020-08-01               64.29                  62.77   Aug\n",
       "\n",
       "[4945 rows x 4 columns]"
      ]
     },
     "execution_count": 97,
     "metadata": {},
     "output_type": "execute_result"
    }
   ],
   "source": [
    "power_month"
   ]
  },
  {
   "cell_type": "code",
   "execution_count": 98,
   "metadata": {
    "colab": {
     "base_uri": "https://localhost:8080/",
     "height": 0
    },
    "id": "huxxnpiZv-5e",
    "outputId": "632e155a-59b8-4493-8019-f9a5e978b751",
    "pycharm": {
     "name": "#%%\n"
    }
   },
   "outputs": [
    {
     "data": {
      "text/html": [
       "<div>\n",
       "<style scoped>\n",
       "    .dataframe tbody tr th:only-of-type {\n",
       "        vertical-align: middle;\n",
       "    }\n",
       "\n",
       "    .dataframe tbody tr th {\n",
       "        vertical-align: top;\n",
       "    }\n",
       "\n",
       "    .dataframe thead th {\n",
       "        text-align: right;\n",
       "    }\n",
       "</style>\n",
       "<table border=\"1\" class=\"dataframe\">\n",
       "  <thead>\n",
       "    <tr style=\"text-align: right;\">\n",
       "      <th></th>\n",
       "      <th>Month</th>\n",
       "      <th>Total Actual Power</th>\n",
       "      <th>Total Estimated Power</th>\n",
       "    </tr>\n",
       "  </thead>\n",
       "  <tbody>\n",
       "    <tr>\n",
       "      <th>0</th>\n",
       "      <td>Apr</td>\n",
       "      <td>213513.05</td>\n",
       "      <td>212048.02</td>\n",
       "    </tr>\n",
       "    <tr>\n",
       "      <th>1</th>\n",
       "      <td>Aug</td>\n",
       "      <td>222086.50</td>\n",
       "      <td>209302.58</td>\n",
       "    </tr>\n",
       "    <tr>\n",
       "      <th>2</th>\n",
       "      <td>Dec</td>\n",
       "      <td>308104.51</td>\n",
       "      <td>295469.50</td>\n",
       "    </tr>\n",
       "    <tr>\n",
       "      <th>3</th>\n",
       "      <td>Feb</td>\n",
       "      <td>291998.90</td>\n",
       "      <td>283755.93</td>\n",
       "    </tr>\n",
       "    <tr>\n",
       "      <th>4</th>\n",
       "      <td>Jan</td>\n",
       "      <td>316118.41</td>\n",
       "      <td>304111.42</td>\n",
       "    </tr>\n",
       "    <tr>\n",
       "      <th>5</th>\n",
       "      <td>Jul</td>\n",
       "      <td>324230.03</td>\n",
       "      <td>315703.55</td>\n",
       "    </tr>\n",
       "    <tr>\n",
       "      <th>6</th>\n",
       "      <td>Jun</td>\n",
       "      <td>333726.56</td>\n",
       "      <td>313241.10</td>\n",
       "    </tr>\n",
       "    <tr>\n",
       "      <th>7</th>\n",
       "      <td>Mar</td>\n",
       "      <td>276712.36</td>\n",
       "      <td>267485.50</td>\n",
       "    </tr>\n",
       "    <tr>\n",
       "      <th>8</th>\n",
       "      <td>May</td>\n",
       "      <td>227504.28</td>\n",
       "      <td>226703.85</td>\n",
       "    </tr>\n",
       "    <tr>\n",
       "      <th>9</th>\n",
       "      <td>Nov</td>\n",
       "      <td>299675.62</td>\n",
       "      <td>287673.20</td>\n",
       "    </tr>\n",
       "    <tr>\n",
       "      <th>10</th>\n",
       "      <td>Oct</td>\n",
       "      <td>323916.84</td>\n",
       "      <td>309780.29</td>\n",
       "    </tr>\n",
       "    <tr>\n",
       "      <th>11</th>\n",
       "      <td>Sep</td>\n",
       "      <td>322081.33</td>\n",
       "      <td>309785.40</td>\n",
       "    </tr>\n",
       "  </tbody>\n",
       "</table>\n",
       "</div>"
      ],
      "text/plain": [
       "   Month  Total Actual Power  Total Estimated Power\n",
       "0    Apr           213513.05              212048.02\n",
       "1    Aug           222086.50              209302.58\n",
       "2    Dec           308104.51              295469.50\n",
       "3    Feb           291998.90              283755.93\n",
       "4    Jan           316118.41              304111.42\n",
       "5    Jul           324230.03              315703.55\n",
       "6    Jun           333726.56              313241.10\n",
       "7    Mar           276712.36              267485.50\n",
       "8    May           227504.28              226703.85\n",
       "9    Nov           299675.62              287673.20\n",
       "10   Oct           323916.84              309780.29\n",
       "11   Sep           322081.33              309785.40"
      ]
     },
     "execution_count": 98,
     "metadata": {},
     "output_type": "execute_result"
    }
   ],
   "source": [
    "power_month = power_month.groupby('Month').agg('sum')\n",
    "power_month.reset_index(inplace=True)\n",
    "power_month"
   ]
  },
  {
   "cell_type": "code",
   "execution_count": 99,
   "metadata": {
    "colab": {
     "base_uri": "https://localhost:8080/",
     "height": 0
    },
    "id": "85-iwNAxv-5j",
    "outputId": "e08d40ef-125d-4811-a088-0b9c7a89fdb9"
   },
   "outputs": [
    {
     "data": {
      "text/html": [
       "<div>\n",
       "<style scoped>\n",
       "    .dataframe tbody tr th:only-of-type {\n",
       "        vertical-align: middle;\n",
       "    }\n",
       "\n",
       "    .dataframe tbody tr th {\n",
       "        vertical-align: top;\n",
       "    }\n",
       "\n",
       "    .dataframe thead th {\n",
       "        text-align: right;\n",
       "    }\n",
       "</style>\n",
       "<table border=\"1\" class=\"dataframe\">\n",
       "  <thead>\n",
       "    <tr style=\"text-align: right;\">\n",
       "      <th></th>\n",
       "      <th>Month</th>\n",
       "      <th>Total Actual Power</th>\n",
       "      <th>Total Estimated Power</th>\n",
       "    </tr>\n",
       "  </thead>\n",
       "  <tbody>\n",
       "    <tr>\n",
       "      <th>0</th>\n",
       "      <td>Jan</td>\n",
       "      <td>316118.41</td>\n",
       "      <td>304111.42</td>\n",
       "    </tr>\n",
       "    <tr>\n",
       "      <th>1</th>\n",
       "      <td>Feb</td>\n",
       "      <td>291998.90</td>\n",
       "      <td>283755.93</td>\n",
       "    </tr>\n",
       "    <tr>\n",
       "      <th>2</th>\n",
       "      <td>Mar</td>\n",
       "      <td>276712.36</td>\n",
       "      <td>267485.50</td>\n",
       "    </tr>\n",
       "    <tr>\n",
       "      <th>3</th>\n",
       "      <td>Apr</td>\n",
       "      <td>213513.05</td>\n",
       "      <td>212048.02</td>\n",
       "    </tr>\n",
       "    <tr>\n",
       "      <th>4</th>\n",
       "      <td>May</td>\n",
       "      <td>227504.28</td>\n",
       "      <td>226703.85</td>\n",
       "    </tr>\n",
       "    <tr>\n",
       "      <th>5</th>\n",
       "      <td>Jun</td>\n",
       "      <td>333726.56</td>\n",
       "      <td>313241.10</td>\n",
       "    </tr>\n",
       "    <tr>\n",
       "      <th>6</th>\n",
       "      <td>Jul</td>\n",
       "      <td>324230.03</td>\n",
       "      <td>315703.55</td>\n",
       "    </tr>\n",
       "    <tr>\n",
       "      <th>7</th>\n",
       "      <td>Aug</td>\n",
       "      <td>222086.50</td>\n",
       "      <td>209302.58</td>\n",
       "    </tr>\n",
       "    <tr>\n",
       "      <th>8</th>\n",
       "      <td>Sep</td>\n",
       "      <td>322081.33</td>\n",
       "      <td>309785.40</td>\n",
       "    </tr>\n",
       "    <tr>\n",
       "      <th>9</th>\n",
       "      <td>Oct</td>\n",
       "      <td>323916.84</td>\n",
       "      <td>309780.29</td>\n",
       "    </tr>\n",
       "    <tr>\n",
       "      <th>10</th>\n",
       "      <td>Nov</td>\n",
       "      <td>299675.62</td>\n",
       "      <td>287673.20</td>\n",
       "    </tr>\n",
       "    <tr>\n",
       "      <th>11</th>\n",
       "      <td>Dec</td>\n",
       "      <td>308104.51</td>\n",
       "      <td>295469.50</td>\n",
       "    </tr>\n",
       "  </tbody>\n",
       "</table>\n",
       "</div>"
      ],
      "text/plain": [
       "   Month  Total Actual Power  Total Estimated Power\n",
       "0    Jan           316118.41              304111.42\n",
       "1    Feb           291998.90              283755.93\n",
       "2    Mar           276712.36              267485.50\n",
       "3    Apr           213513.05              212048.02\n",
       "4    May           227504.28              226703.85\n",
       "5    Jun           333726.56              313241.10\n",
       "6    Jul           324230.03              315703.55\n",
       "7    Aug           222086.50              209302.58\n",
       "8    Sep           322081.33              309785.40\n",
       "9    Oct           323916.84              309780.29\n",
       "10   Nov           299675.62              287673.20\n",
       "11   Dec           308104.51              295469.50"
      ]
     },
     "execution_count": 99,
     "metadata": {},
     "output_type": "execute_result"
    }
   ],
   "source": [
    "power_month['Month'] = pd.Categorical(power_month.Month,categories=calendar.month_abbr[1:], ordered=True)\n",
    "power_month=power_month.sort_values('Month')\n",
    "power_month.reset_index(drop=True, inplace=True)\n",
    "power_month"
   ]
  },
  {
   "cell_type": "markdown",
   "metadata": {
    "id": "3rcu--Vvv-5l",
    "pycharm": {
     "name": "#%% md\n"
    }
   },
   "source": [
    "## Month-wise Estimated Vs. Actual Power Generation"
   ]
  },
  {
   "cell_type": "code",
   "execution_count": 100,
   "metadata": {
    "colab": {
     "base_uri": "https://localhost:8080/",
     "height": 0
    },
    "id": "SQ_z-BUQv-5l",
    "outputId": "b905cfff-0633-42fa-f9c0-adc0689e9df5"
   },
   "outputs": [
    {
     "data": {
      "text/plain": [
       "<AxesSubplot:xlabel='Month'>"
      ]
     },
     "execution_count": 100,
     "metadata": {},
     "output_type": "execute_result"
    },
    {
     "data": {
      "image/png": "[encoded data removed]",
      "text/plain": [
       "<Figure size 700x500 with 1 Axes>"
      ]
     },
     "metadata": {},
     "output_type": "display_data"
    }
   ],
   "source": [
    "power_month.plot(kind='bar',x='Month',y=['Total Actual Power','Total Estimated Power'])"
   ]
  },
  {
   "cell_type": "markdown",
   "metadata": {
    "id": "nzViUVqyVoTi"
   },
   "source": [
    "### Analysis of model on overall dataset grouping by date"
   ]
  },
  {
   "cell_type": "markdown",
   "metadata": {
    "id": "XVPGPuwgV7Pb"
   },
   "source": [
    "\n",
    "\n",
    "*   Importing libraries required for Regression model and splitting the data into train and test set\n",
    "\n"
   ]
  },
  {
   "cell_type": "code",
   "execution_count": 101,
   "metadata": {
    "id": "MkzkmyjYWLec"
   },
   "outputs": [],
   "source": [
    "from sklearn.model_selection import train_test_split\n",
    "from sklearn.preprocessing import StandardScaler,Normalizer\n",
    "from sklearn.linear_model import LinearRegression"
   ]
  },
  {
   "cell_type": "code",
   "execution_count": 102,
   "metadata": {
    "colab": {
     "base_uri": "https://localhost:8080/",
     "height": 605
    },
    "id": "h_pCyxfNWQiU",
    "outputId": "5edd1d3b-fa09-44f7-9e4d-5df2043c5681",
    "scrolled": true
   },
   "outputs": [
    {
     "data": {
      "text/html": [
       "<div>\n",
       "<style scoped>\n",
       "    .dataframe tbody tr th:only-of-type {\n",
       "        vertical-align: middle;\n",
       "    }\n",
       "\n",
       "    .dataframe tbody tr th {\n",
       "        vertical-align: top;\n",
       "    }\n",
       "\n",
       "    .dataframe thead th {\n",
       "        text-align: right;\n",
       "    }\n",
       "</style>\n",
       "<table border=\"1\" class=\"dataframe\">\n",
       "  <thead>\n",
       "    <tr style=\"text-align: right;\">\n",
       "      <th></th>\n",
       "      <th>Date</th>\n",
       "      <th>Thermal Generation Actual (in MU)</th>\n",
       "      <th>Thermal Generation Estimated (in MU)</th>\n",
       "      <th>Nuclear Generation Actual (in MU)</th>\n",
       "      <th>Nuclear Generation Estimated (in MU)</th>\n",
       "      <th>Hydro Generation Actual (in MU)</th>\n",
       "      <th>Hydro Generation Estimated (in MU)</th>\n",
       "      <th>Total Actual Power</th>\n",
       "      <th>Total Estimated Power</th>\n",
       "    </tr>\n",
       "  </thead>\n",
       "  <tbody>\n",
       "    <tr>\n",
       "      <th>0</th>\n",
       "      <td>2017-09-01</td>\n",
       "      <td>555.582</td>\n",
       "      <td>506.478</td>\n",
       "      <td>23.652</td>\n",
       "      <td>17.836</td>\n",
       "      <td>113.484</td>\n",
       "      <td>99.538</td>\n",
       "      <td>692.718</td>\n",
       "      <td>623.852</td>\n",
       "    </tr>\n",
       "    <tr>\n",
       "      <th>1</th>\n",
       "      <td>2017-09-02</td>\n",
       "      <td>555.582</td>\n",
       "      <td>512.674</td>\n",
       "      <td>23.652</td>\n",
       "      <td>18.456</td>\n",
       "      <td>113.484</td>\n",
       "      <td>99.128</td>\n",
       "      <td>692.718</td>\n",
       "      <td>630.258</td>\n",
       "    </tr>\n",
       "    <tr>\n",
       "      <th>2</th>\n",
       "      <td>2017-09-03</td>\n",
       "      <td>555.554</td>\n",
       "      <td>506.646</td>\n",
       "      <td>23.652</td>\n",
       "      <td>18.514</td>\n",
       "      <td>113.484</td>\n",
       "      <td>94.610</td>\n",
       "      <td>692.690</td>\n",
       "      <td>619.770</td>\n",
       "    </tr>\n",
       "    <tr>\n",
       "      <th>3</th>\n",
       "      <td>2017-09-04</td>\n",
       "      <td>555.554</td>\n",
       "      <td>542.856</td>\n",
       "      <td>23.652</td>\n",
       "      <td>18.524</td>\n",
       "      <td>113.484</td>\n",
       "      <td>100.072</td>\n",
       "      <td>692.690</td>\n",
       "      <td>661.452</td>\n",
       "    </tr>\n",
       "    <tr>\n",
       "      <th>4</th>\n",
       "      <td>2017-09-05</td>\n",
       "      <td>558.170</td>\n",
       "      <td>555.930</td>\n",
       "      <td>23.652</td>\n",
       "      <td>18.542</td>\n",
       "      <td>113.484</td>\n",
       "      <td>94.032</td>\n",
       "      <td>695.306</td>\n",
       "      <td>668.504</td>\n",
       "    </tr>\n",
       "    <tr>\n",
       "      <th>...</th>\n",
       "      <td>...</td>\n",
       "      <td>...</td>\n",
       "      <td>...</td>\n",
       "      <td>...</td>\n",
       "      <td>...</td>\n",
       "      <td>...</td>\n",
       "      <td>...</td>\n",
       "      <td>...</td>\n",
       "      <td>...</td>\n",
       "    </tr>\n",
       "    <tr>\n",
       "      <th>984</th>\n",
       "      <td>2020-07-28</td>\n",
       "      <td>592.326</td>\n",
       "      <td>597.208</td>\n",
       "      <td>26.216</td>\n",
       "      <td>17.864</td>\n",
       "      <td>105.154</td>\n",
       "      <td>117.900</td>\n",
       "      <td>723.696</td>\n",
       "      <td>732.972</td>\n",
       "    </tr>\n",
       "    <tr>\n",
       "      <th>985</th>\n",
       "      <td>2020-07-29</td>\n",
       "      <td>592.326</td>\n",
       "      <td>583.772</td>\n",
       "      <td>26.216</td>\n",
       "      <td>18.056</td>\n",
       "      <td>105.154</td>\n",
       "      <td>113.962</td>\n",
       "      <td>723.696</td>\n",
       "      <td>715.790</td>\n",
       "    </tr>\n",
       "    <tr>\n",
       "      <th>986</th>\n",
       "      <td>2020-07-30</td>\n",
       "      <td>594.872</td>\n",
       "      <td>576.776</td>\n",
       "      <td>26.216</td>\n",
       "      <td>17.128</td>\n",
       "      <td>105.154</td>\n",
       "      <td>113.956</td>\n",
       "      <td>726.242</td>\n",
       "      <td>707.860</td>\n",
       "    </tr>\n",
       "    <tr>\n",
       "      <th>987</th>\n",
       "      <td>2020-07-31</td>\n",
       "      <td>596.800</td>\n",
       "      <td>588.622</td>\n",
       "      <td>26.216</td>\n",
       "      <td>17.134</td>\n",
       "      <td>105.154</td>\n",
       "      <td>115.826</td>\n",
       "      <td>728.170</td>\n",
       "      <td>721.582</td>\n",
       "    </tr>\n",
       "    <tr>\n",
       "      <th>988</th>\n",
       "      <td>2020-08-01</td>\n",
       "      <td>559.482</td>\n",
       "      <td>572.086</td>\n",
       "      <td>26.216</td>\n",
       "      <td>17.264</td>\n",
       "      <td>122.794</td>\n",
       "      <td>114.650</td>\n",
       "      <td>708.492</td>\n",
       "      <td>704.000</td>\n",
       "    </tr>\n",
       "  </tbody>\n",
       "</table>\n",
       "<p>989 rows × 9 columns</p>\n",
       "</div>"
      ],
      "text/plain": [
       "          Date  Thermal Generation Actual (in MU)  \\\n",
       "0   2017-09-01                            555.582   \n",
       "1   2017-09-02                            555.582   \n",
       "2   2017-09-03                            555.554   \n",
       "3   2017-09-04                            555.554   \n",
       "4   2017-09-05                            558.170   \n",
       "..         ...                                ...   \n",
       "984 2020-07-28                            592.326   \n",
       "985 2020-07-29                            592.326   \n",
       "986 2020-07-30                            594.872   \n",
       "987 2020-07-31                            596.800   \n",
       "988 2020-08-01                            559.482   \n",
       "\n",
       "     Thermal Generation Estimated (in MU)  Nuclear Generation Actual (in MU)  \\\n",
       "0                                 506.478                             23.652   \n",
       "1                                 512.674                             23.652   \n",
       "2                                 506.646                             23.652   \n",
       "3                                 542.856                             23.652   \n",
       "4                                 555.930                             23.652   \n",
       "..                                    ...                                ...   \n",
       "984                               597.208                             26.216   \n",
       "985                               583.772                             26.216   \n",
       "986                               576.776                             26.216   \n",
       "987                               588.622                             26.216   \n",
       "988                               572.086                             26.216   \n",
       "\n",
       "     Nuclear Generation Estimated (in MU)  Hydro Generation Actual (in MU)  \\\n",
       "0                                  17.836                          113.484   \n",
       "1                                  18.456                          113.484   \n",
       "2                                  18.514                          113.484   \n",
       "3                                  18.524                          113.484   \n",
       "4                                  18.542                          113.484   \n",
       "..                                    ...                              ...   \n",
       "984                                17.864                          105.154   \n",
       "985                                18.056                          105.154   \n",
       "986                                17.128                          105.154   \n",
       "987                                17.134                          105.154   \n",
       "988                                17.264                          122.794   \n",
       "\n",
       "     Hydro Generation Estimated (in MU)  Total Actual Power  \\\n",
       "0                                99.538             692.718   \n",
       "1                                99.128             692.718   \n",
       "2                                94.610             692.690   \n",
       "3                               100.072             692.690   \n",
       "4                                94.032             695.306   \n",
       "..                                  ...                 ...   \n",
       "984                             117.900             723.696   \n",
       "985                             113.962             723.696   \n",
       "986                             113.956             726.242   \n",
       "987                             115.826             728.170   \n",
       "988                             114.650             708.492   \n",
       "\n",
       "     Total Estimated Power  \n",
       "0                  623.852  \n",
       "1                  630.258  \n",
       "2                  619.770  \n",
       "3                  661.452  \n",
       "4                  668.504  \n",
       "..                     ...  \n",
       "984                732.972  \n",
       "985                715.790  \n",
       "986                707.860  \n",
       "987                721.582  \n",
       "988                704.000  \n",
       "\n",
       "[989 rows x 9 columns]"
      ]
     },
     "execution_count": 102,
     "metadata": {},
     "output_type": "execute_result"
    }
   ],
   "source": [
    "mean_power = power.groupby(by='Date',as_index=False).mean()\n",
    "mean_power"
   ]
  },
  {
   "cell_type": "markdown",
   "metadata": {},
   "source": [
    "## Linear Regression Model for Hydro Energy Generated"
   ]
  },
  {
   "cell_type": "code",
   "execution_count": 103,
   "metadata": {
    "colab": {
     "base_uri": "https://localhost:8080/",
     "height": 404
    },
    "id": "ax7Y2bRKWzuO",
    "outputId": "137b1ee4-8a2c-40d8-e41c-46a4f3fac456"
   },
   "outputs": [
    {
     "data": {
      "text/html": [
       "<div>\n",
       "<style scoped>\n",
       "    .dataframe tbody tr th:only-of-type {\n",
       "        vertical-align: middle;\n",
       "    }\n",
       "\n",
       "    .dataframe tbody tr th {\n",
       "        vertical-align: top;\n",
       "    }\n",
       "\n",
       "    .dataframe thead th {\n",
       "        text-align: right;\n",
       "    }\n",
       "</style>\n",
       "<table border=\"1\" class=\"dataframe\">\n",
       "  <thead>\n",
       "    <tr style=\"text-align: right;\">\n",
       "      <th></th>\n",
       "      <th>Hydro Generation Estimated (in MU)</th>\n",
       "      <th>Hydro Generation Actual (in MU)</th>\n",
       "    </tr>\n",
       "  </thead>\n",
       "  <tbody>\n",
       "    <tr>\n",
       "      <th>0</th>\n",
       "      <td>99.538</td>\n",
       "      <td>113.484</td>\n",
       "    </tr>\n",
       "    <tr>\n",
       "      <th>1</th>\n",
       "      <td>99.128</td>\n",
       "      <td>113.484</td>\n",
       "    </tr>\n",
       "    <tr>\n",
       "      <th>2</th>\n",
       "      <td>94.610</td>\n",
       "      <td>113.484</td>\n",
       "    </tr>\n",
       "    <tr>\n",
       "      <th>3</th>\n",
       "      <td>100.072</td>\n",
       "      <td>113.484</td>\n",
       "    </tr>\n",
       "    <tr>\n",
       "      <th>4</th>\n",
       "      <td>94.032</td>\n",
       "      <td>113.484</td>\n",
       "    </tr>\n",
       "    <tr>\n",
       "      <th>...</th>\n",
       "      <td>...</td>\n",
       "      <td>...</td>\n",
       "    </tr>\n",
       "    <tr>\n",
       "      <th>984</th>\n",
       "      <td>117.900</td>\n",
       "      <td>105.154</td>\n",
       "    </tr>\n",
       "    <tr>\n",
       "      <th>985</th>\n",
       "      <td>113.962</td>\n",
       "      <td>105.154</td>\n",
       "    </tr>\n",
       "    <tr>\n",
       "      <th>986</th>\n",
       "      <td>113.956</td>\n",
       "      <td>105.154</td>\n",
       "    </tr>\n",
       "    <tr>\n",
       "      <th>987</th>\n",
       "      <td>115.826</td>\n",
       "      <td>105.154</td>\n",
       "    </tr>\n",
       "    <tr>\n",
       "      <th>988</th>\n",
       "      <td>114.650</td>\n",
       "      <td>122.794</td>\n",
       "    </tr>\n",
       "  </tbody>\n",
       "</table>\n",
       "<p>989 rows × 2 columns</p>\n",
       "</div>"
      ],
      "text/plain": [
       "     Hydro Generation Estimated (in MU)  Hydro Generation Actual (in MU)\n",
       "0                                99.538                          113.484\n",
       "1                                99.128                          113.484\n",
       "2                                94.610                          113.484\n",
       "3                               100.072                          113.484\n",
       "4                                94.032                          113.484\n",
       "..                                  ...                              ...\n",
       "984                             117.900                          105.154\n",
       "985                             113.962                          105.154\n",
       "986                             113.956                          105.154\n",
       "987                             115.826                          105.154\n",
       "988                             114.650                          122.794\n",
       "\n",
       "[989 rows x 2 columns]"
      ]
     },
     "execution_count": 103,
     "metadata": {},
     "output_type": "execute_result"
    }
   ],
   "source": [
    "mean_hydro = mean_power[['Hydro Generation Estimated (in MU)','Hydro Generation Actual (in MU)']]\n",
    "mean_hydro"
   ]
  },
  {
   "cell_type": "code",
   "execution_count": 104,
   "metadata": {
    "colab": {
     "base_uri": "https://localhost:8080/",
     "height": 448
    },
    "id": "IAV4908xW0DL",
    "outputId": "458e8da2-5fbf-49cc-b720-89b4763c522a"
   },
   "outputs": [
    {
     "data": {
      "text/plain": [
       "<AxesSubplot:>"
      ]
     },
     "execution_count": 104,
     "metadata": {},
     "output_type": "execute_result"
    },
    {
     "data": {
      "image/png": "[encoded data removed]",
      "text/plain": [
       "<Figure size 700x500 with 1 Axes>"
      ]
     },
     "metadata": {},
     "output_type": "display_data"
    }
   ],
   "source": [
    "mean_hydro.boxplot()"
   ]
  },
  {
   "cell_type": "markdown",
   "metadata": {
    "id": "UX8-_6rhXCKf"
   },
   "source": [
    "* Creating the training and testing data for linear regression"
   ]
  },
  {
   "cell_type": "code",
   "execution_count": 105,
   "metadata": {
    "id": "CkifcIvIW0R2"
   },
   "outputs": [],
   "source": [
    "x = mean_hydro[['Hydro Generation Estimated (in MU)']].values\n",
    "y = mean_hydro[['Hydro Generation Actual (in MU)']].values\n",
    "\n",
    "x_train,x_test,y_train,y_test = train_test_split(x,y,test_size=0.2,random_state=42)"
   ]
  },
  {
   "cell_type": "code",
   "execution_count": 106,
   "metadata": {
    "colab": {
     "base_uri": "https://localhost:8080/",
     "height": 33
    },
    "id": "GmUjOL32XJbw",
    "outputId": "3296d31f-fc73-450d-cabe-d3edcade35a1"
   },
   "outputs": [
    {
     "data": {
      "text/plain": [
       "LinearRegression()"
      ]
     },
     "execution_count": 106,
     "metadata": {},
     "output_type": "execute_result"
    }
   ],
   "source": [
    "linreg = LinearRegression()\n",
    "linreg.fit(x_train,y_train)"
   ]
  },
  {
   "cell_type": "code",
   "execution_count": 107,
   "metadata": {
    "id": "QsYcABbDXN8F"
   },
   "outputs": [],
   "source": [
    "y_pred = linreg.predict(x_test)"
   ]
  },
  {
   "cell_type": "code",
   "execution_count": 108,
   "metadata": {
    "colab": {
     "base_uri": "https://localhost:8080/",
     "height": 557
    },
    "id": "6GjEgO1BXQMD",
    "outputId": "ddd38a3f-a5d8-42f5-b9cc-73f6a27dbfd8"
   },
   "outputs": [
    {
     "data": {
      "image/png": "[encoded data removed]",
      "text/plain": [
       "<Figure size 1800x900 with 1 Axes>"
      ]
     },
     "metadata": {},
     "output_type": "display_data"
    }
   ],
   "source": [
    "plt.figure(figsize=(18,9))\n",
    "\n",
    "plt.scatter(x_test,y_test)\n",
    "plt.plot(x_test,y_pred,color='r')\n",
    "plt.show()"
   ]
  },
  {
   "cell_type": "code",
   "execution_count": 109,
   "metadata": {
    "colab": {
     "base_uri": "https://localhost:8080/",
     "height": 33
    },
    "id": "1Z5UQJrTXTJQ",
    "outputId": "a3869fa1-6eb6-4024-d79f-7b7487eff15b"
   },
   "outputs": [
    {
     "data": {
      "text/plain": [
       "0.8045683939079786"
      ]
     },
     "execution_count": 109,
     "metadata": {},
     "output_type": "execute_result"
    }
   ],
   "source": [
    "linreg.score(x_train,y_train)"
   ]
  },
  {
   "cell_type": "code",
   "execution_count": 110,
   "metadata": {
    "colab": {
     "base_uri": "https://localhost:8080/",
     "height": 33
    },
    "id": "5dwVuBoeXVvO",
    "outputId": "df9acb0b-87f0-4488-8c70-6d1f4984e167"
   },
   "outputs": [
    {
     "name": "stdout",
     "output_type": "stream",
     "text": [
      "Test score : 0.7924985669078575\n"
     ]
    }
   ],
   "source": [
    "from sklearn.metrics import r2_score\n",
    "\n",
    "score = r2_score(y_test,y_pred)\n",
    "\n",
    "print(f'Test score : {score}')"
   ]
  },
  {
   "cell_type": "code",
   "execution_count": 111,
   "metadata": {
    "colab": {
     "base_uri": "https://localhost:8080/",
     "height": 35
    },
    "id": "amFQ24CwXYmP",
    "outputId": "b2ad4f89-0ed3-4905-a28f-fc028151969d"
   },
   "outputs": [
    {
     "data": {
      "text/plain": [
       "'Slope : [[0.75180713]]'"
      ]
     },
     "execution_count": 111,
     "metadata": {},
     "output_type": "execute_result"
    }
   ],
   "source": [
    "f'Slope : {linreg.coef_}'"
   ]
  },
  {
   "cell_type": "code",
   "execution_count": 112,
   "metadata": {
    "colab": {
     "base_uri": "https://localhost:8080/",
     "height": 35
    },
    "id": "QDAdaycSXZVu",
    "outputId": "172cd2d2-6613-4a62-ba2b-9b60e2639476"
   },
   "outputs": [
    {
     "data": {
      "text/plain": [
       "'Intercept : [15.66058414]'"
      ]
     },
     "execution_count": 112,
     "metadata": {},
     "output_type": "execute_result"
    }
   ],
   "source": [
    "f'Intercept : {linreg.intercept_}'"
   ]
  },
  {
   "cell_type": "code",
   "execution_count": 113,
   "metadata": {},
   "outputs": [
    {
     "name": "stdout",
     "output_type": "stream",
     "text": [
      "MAE: 8.49082051079554\n",
      "MSE: 120.36116654560523\n",
      "RMSE: 10.970923686983026\n"
     ]
    }
   ],
   "source": [
    "from sklearn import metrics\n",
    "print('MAE:', metrics.mean_absolute_error(y_test, y_pred))\n",
    "print('MSE:', metrics.mean_squared_error(y_test, y_pred))\n",
    "print('RMSE:', np.sqrt(metrics.mean_squared_error(y_test, y_pred)))"
   ]
  },
  {
   "cell_type": "code",
   "execution_count": null,
   "metadata": {},
   "outputs": [],
   "source": []
  }
 ],
 "metadata": {
  "colab": {
   "collapsed_sections": [
    "HUgiT9zuv-4i",
    "NJjvcOeMv-4u",
    "5D3KCx8Hv-43",
    "HQEvxtZiv-5F",
    "hDKlQ4Pfv-5L",
    "YsYsA78rv-5U",
    "3rcu--Vvv-5l",
    "BQ1zeNq0v-56",
    "B5Q_8RJoU297",
    "4clKgFdJU2-J",
    "fxdj1Eh1U2-3",
    "yAMpCv4ZyHhd",
    "bsmbRGsGU2_h",
    "q0pBDJtjU2_y",
    "5rDPNUmqU3AE",
    "gt-mMuYeyIm0",
    "EoTvzUuZyKBa"
   ],
   "name": "Elec-gen.ipynb",
   "provenance": []
  },
  "kernelspec": {
   "display_name": "Python 3 (ipykernel)",
   "language": "python",
   "name": "python3"
  },
  "language_info": {
   "codemirror_mode": {
    "name": "ipython",
    "version": 3
   },
   "file_extension": ".py",
   "mimetype": "text/x-python",
   "name": "python",
   "nbconvert_exporter": "python",
   "pygments_lexer": "ipython3",
   "version": "3.9.13"
  }
 },
 "nbformat": 4,
 "nbformat_minor": 4
}
