{
 "cells": [
  {
   "cell_type": "code",
   "execution_count": 1,
   "id": "9aa69eaf",
   "metadata": {},
   "outputs": [],
   "source": [
    "import pandas as pd "
   ]
  },
  {
   "cell_type": "markdown",
   "id": "e6d7c0b6",
   "metadata": {},
   "source": [
    "### import or get the consumer data\n",
    "##### Creating a small dataset with perfect separation"
   ]
  },
  {
   "cell_type": "code",
   "execution_count": 2,
   "id": "ffedb508",
   "metadata": {},
   "outputs": [],
   "source": [
    "data = {\n",
    "    'Credit_Score': [700, 650, 600, 750, 680, 620, 720, 690],\n",
    "    'Income': [50000, 60000, 45000, 70000, 55000, 48000, 65000, 58000],\n",
    "    'Debt_to_Income_Ratio': [0.3, 0.4, 0.5, 0.2, 0.35, 0.45, 0.25, 0.38],\n",
    "    'Default_on_Loan': ['No', 'No', 'Yes', 'No', 'No', 'Yes', 'No', 'Yes']\n",
    "}"
   ]
  },
  {
   "cell_type": "markdown",
   "id": "61c66f0c",
   "metadata": {},
   "source": [
    "### print the data"
   ]
  },
  {
   "cell_type": "code",
   "execution_count": 3,
   "id": "b5ce623f",
   "metadata": {},
   "outputs": [
    {
     "data": {
      "text/plain": [
       "{'Credit_Score': [700, 650, 600, 750, 680, 620, 720, 690],\n",
       " 'Income': [50000, 60000, 45000, 70000, 55000, 48000, 65000, 58000],\n",
       " 'Debt_to_Income_Ratio': [0.3, 0.4, 0.5, 0.2, 0.35, 0.45, 0.25, 0.38],\n",
       " 'Default_on_Loan': ['No', 'No', 'Yes', 'No', 'No', 'Yes', 'No', 'Yes']}"
      ]
     },
     "execution_count": 3,
     "metadata": {},
     "output_type": "execute_result"
    }
   ],
   "source": [
    "data"
   ]
  },
  {
   "cell_type": "markdown",
   "id": "2d6c991a",
   "metadata": {},
   "source": [
    "### convert the data into two dimensional data structure"
   ]
  },
  {
   "cell_type": "code",
   "execution_count": 4,
   "id": "542501e0",
   "metadata": {},
   "outputs": [],
   "source": [
    "df_credit = pd.DataFrame(data)"
   ]
  },
  {
   "cell_type": "code",
   "execution_count": 5,
   "id": "0f430b98",
   "metadata": {},
   "outputs": [
    {
     "data": {
      "text/html": [
       "<div>\n",
       "<style scoped>\n",
       "    .dataframe tbody tr th:only-of-type {\n",
       "        vertical-align: middle;\n",
       "    }\n",
       "\n",
       "    .dataframe tbody tr th {\n",
       "        vertical-align: top;\n",
       "    }\n",
       "\n",
       "    .dataframe thead th {\n",
       "        text-align: right;\n",
       "    }\n",
       "</style>\n",
       "<table border=\"1\" class=\"dataframe\">\n",
       "  <thead>\n",
       "    <tr style=\"text-align: right;\">\n",
       "      <th></th>\n",
       "      <th>Credit_Score</th>\n",
       "      <th>Income</th>\n",
       "      <th>Debt_to_Income_Ratio</th>\n",
       "      <th>Default_on_Loan</th>\n",
       "    </tr>\n",
       "  </thead>\n",
       "  <tbody>\n",
       "    <tr>\n",
       "      <th>0</th>\n",
       "      <td>700</td>\n",
       "      <td>50000</td>\n",
       "      <td>0.30</td>\n",
       "      <td>No</td>\n",
       "    </tr>\n",
       "    <tr>\n",
       "      <th>1</th>\n",
       "      <td>650</td>\n",
       "      <td>60000</td>\n",
       "      <td>0.40</td>\n",
       "      <td>No</td>\n",
       "    </tr>\n",
       "    <tr>\n",
       "      <th>2</th>\n",
       "      <td>600</td>\n",
       "      <td>45000</td>\n",
       "      <td>0.50</td>\n",
       "      <td>Yes</td>\n",
       "    </tr>\n",
       "    <tr>\n",
       "      <th>3</th>\n",
       "      <td>750</td>\n",
       "      <td>70000</td>\n",
       "      <td>0.20</td>\n",
       "      <td>No</td>\n",
       "    </tr>\n",
       "    <tr>\n",
       "      <th>4</th>\n",
       "      <td>680</td>\n",
       "      <td>55000</td>\n",
       "      <td>0.35</td>\n",
       "      <td>No</td>\n",
       "    </tr>\n",
       "    <tr>\n",
       "      <th>5</th>\n",
       "      <td>620</td>\n",
       "      <td>48000</td>\n",
       "      <td>0.45</td>\n",
       "      <td>Yes</td>\n",
       "    </tr>\n",
       "    <tr>\n",
       "      <th>6</th>\n",
       "      <td>720</td>\n",
       "      <td>65000</td>\n",
       "      <td>0.25</td>\n",
       "      <td>No</td>\n",
       "    </tr>\n",
       "    <tr>\n",
       "      <th>7</th>\n",
       "      <td>690</td>\n",
       "      <td>58000</td>\n",
       "      <td>0.38</td>\n",
       "      <td>Yes</td>\n",
       "    </tr>\n",
       "  </tbody>\n",
       "</table>\n",
       "</div>"
      ],
      "text/plain": [
       "   Credit_Score  Income  Debt_to_Income_Ratio Default_on_Loan\n",
       "0           700   50000                  0.30              No\n",
       "1           650   60000                  0.40              No\n",
       "2           600   45000                  0.50             Yes\n",
       "3           750   70000                  0.20              No\n",
       "4           680   55000                  0.35              No\n",
       "5           620   48000                  0.45             Yes\n",
       "6           720   65000                  0.25              No\n",
       "7           690   58000                  0.38             Yes"
      ]
     },
     "execution_count": 5,
     "metadata": {},
     "output_type": "execute_result"
    }
   ],
   "source": [
    "df_credit"
   ]
  },
  {
   "cell_type": "markdown",
   "id": "9d18a393",
   "metadata": {},
   "source": [
    "### import libraries \n",
    "#### decision tree - to solve classification problems and categorize objects depending on their learning features. "
   ]
  },
  {
   "cell_type": "code",
   "execution_count": 6,
   "id": "767ede91",
   "metadata": {},
   "outputs": [],
   "source": [
    "from sklearn.tree import DecisionTreeClassifier\n",
    "from sklearn.metrics import accuracy_score"
   ]
  },
  {
   "cell_type": "markdown",
   "id": "2ab3bfa8",
   "metadata": {},
   "source": [
    "### separate features and target"
   ]
  },
  {
   "cell_type": "code",
   "execution_count": 8,
   "id": "63818753",
   "metadata": {},
   "outputs": [],
   "source": [
    "x_credit = df_credit[['Credit_Score', 'Income', 'Debt_to_Income_Ratio']]\n",
    "y_credit = df_credit['Default_on_Loan']"
   ]
  },
  {
   "cell_type": "markdown",
   "id": "3fe1521b",
   "metadata": {},
   "source": [
    "### train a decision tree classifier"
   ]
  },
  {
   "cell_type": "code",
   "execution_count": 11,
   "id": "a24071f3",
   "metadata": {},
   "outputs": [
    {
     "data": {
      "text/plain": [
       "DecisionTreeClassifier()"
      ]
     },
     "execution_count": 11,
     "metadata": {},
     "output_type": "execute_result"
    }
   ],
   "source": [
    "clf_credit = DecisionTreeClassifier()\n",
    "clf_credit.fit(x_credit, y_credit)"
   ]
  },
  {
   "cell_type": "markdown",
   "id": "93227d71",
   "metadata": {},
   "source": [
    "### evaluate accuracy on training data"
   ]
  },
  {
   "cell_type": "code",
   "execution_count": 13,
   "id": "b6272826",
   "metadata": {},
   "outputs": [
    {
     "name": "stdout",
     "output_type": "stream",
     "text": [
      "Accuracy on training data: 100.00%\n"
     ]
    }
   ],
   "source": [
    "y_pred_credit = clf_credit.predict(x_credit)\n",
    "accuracy_credit = accuracy_score(y_credit, y_pred_credit)\n",
    "print(f'Accuracy on training data: {accuracy_credit * 100:.2f}%')"
   ]
  },
  {
   "cell_type": "markdown",
   "id": "f6e01d31",
   "metadata": {},
   "source": [
    "### now let's use the trained model to predict outcomes for new samples"
   ]
  },
  {
   "cell_type": "code",
   "execution_count": 14,
   "id": "0220c085",
   "metadata": {},
   "outputs": [
    {
     "name": "stdout",
     "output_type": "stream",
     "text": [
      "Sample 1: Predicted Default on Loan - No\n",
      "Sample 2: Predicted Default on Loan - No\n",
      "Sample 3: Predicted Default on Loan - Yes\n"
     ]
    }
   ],
   "source": [
    "new_samples_credit = {\n",
    "    'Credit_Score': [680, 720, 600],\n",
    "    'Income': [55000, 65000, 50000],\n",
    "    'Debt_to_Income_Ratio': [0.33, 0.28, 0.42]\n",
    "}\n",
    "\n",
    "new_df_credit = pd.DataFrame(new_samples_credit)\n",
    "\n",
    "# Predict outcomes for new samples\n",
    "new_predictions_credit = clf_credit.predict(new_df_credit)\n",
    "\n",
    "# Display predictions for new samples\n",
    "for i, pred in enumerate(new_predictions_credit):\n",
    "    print(f\"Sample {i + 1}: Predicted Default on Loan - {pred}\")"
   ]
  },
  {
   "cell_type": "markdown",
   "id": "51e77c49",
   "metadata": {},
   "source": [
    "### Result\n",
    "##### A python program was developed using decision tree algorithm based on customer credit information to predict load defaulter. "
   ]
  },
  {
   "cell_type": "code",
   "execution_count": null,
   "id": "61120199",
   "metadata": {},
   "outputs": [],
   "source": []
  }
 ],
 "metadata": {
  "kernelspec": {
   "display_name": "Python 3 (ipykernel)",
   "language": "python",
   "name": "python3"
  },
  "language_info": {
   "codemirror_mode": {
    "name": "ipython",
    "version": 3
   },
   "file_extension": ".py",
   "mimetype": "text/x-python",
   "name": "python",
   "nbconvert_exporter": "python",
   "pygments_lexer": "ipython3",
   "version": "3.9.13"
  }
 },
 "nbformat": 4,
 "nbformat_minor": 5
}
